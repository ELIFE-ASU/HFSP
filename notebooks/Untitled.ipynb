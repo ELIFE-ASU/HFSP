{
 "cells": [
  {
   "cell_type": "code",
   "execution_count": 1,
   "id": "e433ceb1",
   "metadata": {},
   "outputs": [],
   "source": [
    "using Pkg"
   ]
  },
  {
   "cell_type": "code",
   "execution_count": 2,
   "id": "3689dc62",
   "metadata": {},
   "outputs": [
    {
     "name": "stderr",
     "output_type": "stream",
     "text": [
      "\u001b[32m\u001b[1m  Activating\u001b[22m\u001b[39m environment at `D:\\Programming documentation\\HFSP\\Project.toml`\n"
     ]
    }
   ],
   "source": [
    "Pkg.activate(\"..\")"
   ]
  },
  {
   "cell_type": "code",
   "execution_count": 7,
   "id": "c5f46244",
   "metadata": {},
   "outputs": [
    {
     "data": {
      "text/plain": [
       "runplot (generic function with 2 methods)"
      ]
     },
     "execution_count": 7,
     "metadata": {},
     "output_type": "execute_result"
    }
   ],
   "source": [
    "# using HFSP\n",
    "include(\"../src/core.jl\")"
   ]
  },
  {
   "cell_type": "code",
   "execution_count": 4,
   "id": "a1bf4cf6",
   "metadata": {},
   "outputs": [],
   "source": [
    "# GaloisFields.safepow(q::BigInt,n) = q^n"
   ]
  },
  {
   "cell_type": "code",
   "execution_count": 5,
   "id": "465e1c77",
   "metadata": {},
   "outputs": [
    {
     "data": {
      "text/plain": [
       "({282, 791} undirected Int64 metagraph with Float64 weights defined by :weight (default weight 1.0), 𝔽₄, 𝔽[8])"
      ]
     },
     "execution_count": 5,
     "metadata": {},
     "output_type": "execute_result"
    }
   ],
   "source": [
    "graph,g,H = setup() # defined in src/model.jl:138"
   ]
  },
  {
   "cell_type": "code",
   "execution_count": 8,
   "id": "587cebdb",
   "metadata": {},
   "outputs": [
    {
     "data": {
      "text/plain": [
       "Model{MetaGraph{Int64, Float64}, OffsetVector{HFSPPolynomial, Vector{HFSPPolynomial}}}({282, 791} undirected Int64 metagraph with Float64 weights defined by :weight (default weight 1.0), HFSPPolynomial[HFSPPolynomial{𝔽₄, 𝔽₄, Tuple{RandomChoice{𝔽[8], WeakMajorityRule{𝔽[8]}}, 𝔽[8], 𝔽[8], RandomChoice{𝔽[8], 𝔽[8]}}}(x₁, x₁, (RandomChoice{𝔽[8], WeakMajorityRule{𝔽[8]}}(0.01, 1, WeakMajorityRule{𝔽[8]}(0, 0)), 1, 0, RandomChoice{𝔽[8], 𝔽[8]}(0.01, 0, 1))), HFSPPolynomial{𝔽₄, 𝔽₄, Tuple{RandomChoice{𝔽[8], WeakMajorityRule{𝔽[8]}}, 𝔽[8], 𝔽[8], RandomChoice{𝔽[8], 𝔽[8]}}}(x₁, x₁, (RandomChoice{𝔽[8], WeakMajorityRule{𝔽[8]}}(0.01, 1, WeakMajorityRule{𝔽[8]}(1, x₈ + x₇ + x₆ + x₅ + x₄ + x₃ + x₂ + x₁)), 1, 0, RandomChoice{𝔽[8], 𝔽[8]}(0.01, 0, 1))), HFSPPolynomial{𝔽₄, 𝔽₄, Tuple{RandomChoice{𝔽[8], WeakMajorityRule{𝔽[8]}}, 𝔽[8], 𝔽[8], RandomChoice{𝔽[8], 𝔽[8]}}}(x₁, x₁, (RandomChoice{𝔽[8], WeakMajorityRule{𝔽[8]}}(0.01, 1, WeakMajorityRule{𝔽[8]}(2, x₈x₇ + x₈x₆ + x₈x₅ + x₈x₄ + x₈x₃ + x₈x₂ + x₈x₁ + x₇x₆ + x₇x₅ + x₇x₄ + x₇x₃ + x₇x₂ + x₇x₁ + x₆x₅ + x₆x₄ + x₆x₃ + x₆x₂ + x₆x₁ + x₅x₄ + x₅x₃ + x₅x₂ + x₅x₁ + x₄x₃ + x₄x₂ + x₄x₁ + x₃x₂ + x₃x₁ + x₂x₁ + x₈ + x₇ + x₆ + x₅ + x₄ + x₃ + x₂ + x₁)), 1, 0, RandomChoice{𝔽[8], 𝔽[8]}(0.01, 0, 1))), HFSPPolynomial{𝔽₄, 𝔽₄, Tuple{RandomChoice{𝔽[8], WeakMajorityRule{𝔽[8]}}, 𝔽[8], 𝔽[8], RandomChoice{𝔽[8], 𝔽[8]}}}(x₁, x₁, (RandomChoice{𝔽[8], WeakMajorityRule{𝔽[8]}}(0.01, 1, WeakMajorityRule{𝔽[8]}(3, x₈x₇ + x₈x₆ + x₈x₅ + x₈x₄ + x₈x₃ + x₈x₂ + x₈x₁ + x₇x₆ + x₇x₅ + x₇x₄ + x₇x₃ + x₇x₂ + x₇x₁ + x₆x₅ + x₆x₄ + x₆x₃ + x₆x₂ + x₆x₁ + x₅x₄ + x₅x₃ + x₅x₂ + x₅x₁ + x₄x₃ + x₄x₂ + x₄x₁ + x₃x₂ + x₃x₁ + x₂x₁)), 1, 0, RandomChoice{𝔽[8], 𝔽[8]}(0.01, 0, 1))), HFSPPolynomial{𝔽₄, 𝔽₄, Tuple{RandomChoice{𝔽[8], WeakMajorityRule{𝔽[8]}}, 𝔽[8], 𝔽[8], RandomChoice{𝔽[8], 𝔽[8]}}}(x₁, x₁, (RandomChoice{𝔽[8], WeakMajorityRule{𝔽[8]}}(0.01, 1, WeakMajorityRule{𝔽[8]}(4, x₈x₇x₆x₅ + x₈x₇x₆x₄ + x₈x₇x₆x₃ + x₈x₇x₆x₂ + x₈x₇x₆x₁ + x₈x₇x₅x₄ + x₈x₇x₅x₃ + x₈x₇x₅x₂ + x₈x₇x₅x₁ + x₈x₇x₄x₃ + x₈x₇x₄x₂ + x₈x₇x₄x₁ + x₈x₇x₃x₂ + x₈x₇x₃x₁ + x₈x₇x₂x₁ + x₈x₆x₅x₄ + x₈x₆x₅x₃ + x₈x₆x₅x₂ + x₈x₆x₅x₁ + x₈x₆x₄x₃ + x₈x₆x₄x₂ + x₈x₆x₄x₁ + x₈x₆x₃x₂ + x₈x₆x₃x₁ + x₈x₆x₂x₁ + x₈x₅x₄x₃ + x₈x₅x₄x₂ + x₈x₅x₄x₁ + x₈x₅x₃x₂ + x₈x₅x₃x₁ + x₈x₅x₂x₁ + x₈x₄x₃x₂ + x₈x₄x₃x₁ + x₈x₄x₂x₁ + x₈x₃x₂x₁ + x₇x₆x₅x₄ + x₇x₆x₅x₃ + x₇x₆x₅x₂ + x₇x₆x₅x₁ + x₇x₆x₄x₃ + x₇x₆x₄x₂ + x₇x₆x₄x₁ + x₇x₆x₃x₂ + x₇x₆x₃x₁ + x₇x₆x₂x₁ + x₇x₅x₄x₃ + x₇x₅x₄x₂ + x₇x₅x₄x₁ + x₇x₅x₃x₂ + x₇x₅x₃x₁ + x₇x₅x₂x₁ + x₇x₄x₃x₂ + x₇x₄x₃x₁ + x₇x₄x₂x₁ + x₇x₃x₂x₁ + x₆x₅x₄x₃ + x₆x₅x₄x₂ + x₆x₅x₄x₁ + x₆x₅x₃x₂ + x₆x₅x₃x₁ + x₆x₅x₂x₁ + x₆x₄x₃x₂ + x₆x₄x₃x₁ + x₆x₄x₂x₁ + x₆x₃x₂x₁ + x₅x₄x₃x₂ + x₅x₄x₃x₁ + x₅x₄x₂x₁ + x₅x₃x₂x₁ + x₄x₃x₂x₁ + x₈x₇ + x₈x₆ + x₈x₅ + x₈x₄ + x₈x₃ + x₈x₂ + x₈x₁ + x₇x₆ + x₇x₅ + x₇x₄ + x₇x₃ + x₇x₂ + x₇x₁ + x₆x₅ + x₆x₄ + x₆x₃ + x₆x₂ + x₆x₁ + x₅x₄ + x₅x₃ + x₅x₂ + x₅x₁ + x₄x₃ + x₄x₂ + x₄x₁ + x₃x₂ + x₃x₁ + x₂x₁)), 1, 0, RandomChoice{𝔽[8], 𝔽[8]}(0.01, 0, 1))), HFSPPolynomial{𝔽₄, 𝔽₄, Tuple{RandomChoice{𝔽[8], WeakMajorityRule{𝔽[8]}}, 𝔽[8], 𝔽[8], RandomChoice{𝔽[8], 𝔽[8]}}}(x₁, x₁, (RandomChoice{𝔽[8], WeakMajorityRule{𝔽[8]}}(0.01, 1, WeakMajorityRule{𝔽[8]}(5, x₈x₇x₆x₅ + x₈x₇x₆x₄ + x₈x₇x₆x₃ + x₈x₇x₆x₂ + x₈x₇x₆x₁ + x₈x₇x₅x₄ + x₈x₇x₅x₃ + x₈x₇x₅x₂ + x₈x₇x₅x₁ + x₈x₇x₄x₃ + x₈x₇x₄x₂ + x₈x₇x₄x₁ + x₈x₇x₃x₂ + x₈x₇x₃x₁ + x₈x₇x₂x₁ + x₈x₆x₅x₄ + x₈x₆x₅x₃ + x₈x₆x₅x₂ + x₈x₆x₅x₁ + x₈x₆x₄x₃ + x₈x₆x₄x₂ + x₈x₆x₄x₁ + x₈x₆x₃x₂ + x₈x₆x₃x₁ + x₈x₆x₂x₁ + x₈x₅x₄x₃ + x₈x₅x₄x₂ + x₈x₅x₄x₁ + x₈x₅x₃x₂ + x₈x₅x₃x₁ + x₈x₅x₂x₁ + x₈x₄x₃x₂ + x₈x₄x₃x₁ + x₈x₄x₂x₁ + x₈x₃x₂x₁ + x₇x₆x₅x₄ + x₇x₆x₅x₃ + x₇x₆x₅x₂ + x₇x₆x₅x₁ + x₇x₆x₄x₃ + x₇x₆x₄x₂ + x₇x₆x₄x₁ + x₇x₆x₃x₂ + x₇x₆x₃x₁ + x₇x₆x₂x₁ + x₇x₅x₄x₃ + x₇x₅x₄x₂ + x₇x₅x₄x₁ + x₇x₅x₃x₂ + x₇x₅x₃x₁ + x₇x₅x₂x₁ + x₇x₄x₃x₂ + x₇x₄x₃x₁ + x₇x₄x₂x₁ + x₇x₃x₂x₁ + x₆x₅x₄x₃ + x₆x₅x₄x₂ + x₆x₅x₄x₁ + x₆x₅x₃x₂ + x₆x₅x₃x₁ + x₆x₅x₂x₁ + x₆x₄x₃x₂ + x₆x₄x₃x₁ + x₆x₄x₂x₁ + x₆x₃x₂x₁ + x₅x₄x₃x₂ + x₅x₄x₃x₁ + x₅x₄x₂x₁ + x₅x₃x₂x₁ + x₄x₃x₂x₁ + x₈x₇x₆ + x₈x₇x₅ + x₈x₇x₄ + x₈x₇x₃ + x₈x₇x₂ + x₈x₇x₁ + x₈x₆x₅ + x₈x₆x₄ + x₈x₆x₃ + x₈x₆x₂ + x₈x₆x₁ + x₈x₅x₄ + x₈x₅x₃ + x₈x₅x₂ + x₈x₅x₁ + x₈x₄x₃ + x₈x₄x₂ + x₈x₄x₁ + x₈x₃x₂ + x₈x₃x₁ + x₈x₂x₁ + x₇x₆x₅ + x₇x₆x₄ + x₇x₆x₃ + x₇x₆x₂ + x₇x₆x₁ + x₇x₅x₄ + x₇x₅x₃ + x₇x₅x₂ + x₇x₅x₁ + x₇x₄x₃ + x₇x₄x₂ + x₇x₄x₁ + x₇x₃x₂ + x₇x₃x₁ + x₇x₂x₁ + x₆x₅x₄ + x₆x₅x₃ + x₆x₅x₂ + x₆x₅x₁ + x₆x₄x₃ + x₆x₄x₂ + x₆x₄x₁ + x₆x₃x₂ + x₆x₃x₁ + x₆x₂x₁ + x₅x₄x₃ + x₅x₄x₂ + x₅x₄x₁ + x₅x₃x₂ + x₅x₃x₁ + x₅x₂x₁ + x₄x₃x₂ + x₄x₃x₁ + x₄x₂x₁ + x₃x₂x₁)), 1, 0, RandomChoice{𝔽[8], 𝔽[8]}(0.01, 0, 1))), HFSPPolynomial{𝔽₄, 𝔽₄, Tuple{RandomChoice{𝔽[8], WeakMajorityRule{𝔽[8]}}, 𝔽[8], 𝔽[8], RandomChoice{𝔽[8], 𝔽[8]}}}(x₁, x₁, (RandomChoice{𝔽[8], WeakMajorityRule{𝔽[8]}}(0.01, 1, WeakMajorityRule{𝔽[8]}(6, x₈x₇x₆x₅ + x₈x₇x₆x₄ + x₈x₇x₆x₃ + x₈x₇x₆x₂ + x₈x₇x₆x₁ + x₈x₇x₅x₄ + x₈x₇x₅x₃ + x₈x₇x₅x₂ + x₈x₇x₅x₁ + x₈x₇x₄x₃ + x₈x₇x₄x₂ + x₈x₇x₄x₁ + x₈x₇x₃x₂ + x₈x₇x₃x₁ + x₈x₇x₂x₁ + x₈x₆x₅x₄ + x₈x₆x₅x₃ + x₈x₆x₅x₂ + x₈x₆x₅x₁ + x₈x₆x₄x₃ + x₈x₆x₄x₂ + x₈x₆x₄x₁ + x₈x₆x₃x₂ + x₈x₆x₃x₁ + x₈x₆x₂x₁ + x₈x₅x₄x₃ + x₈x₅x₄x₂ + x₈x₅x₄x₁ + x₈x₅x₃x₂ + x₈x₅x₃x₁ + x₈x₅x₂x₁ + x₈x₄x₃x₂ + x₈x₄x₃x₁ + x₈x₄x₂x₁ + x₈x₃x₂x₁ + x₇x₆x₅x₄ + x₇x₆x₅x₃ + x₇x₆x₅x₂ + x₇x₆x₅x₁ + x₇x₆x₄x₃ + x₇x₆x₄x₂ + x₇x₆x₄x₁ + x₇x₆x₃x₂ + x₇x₆x₃x₁ + x₇x₆x₂x₁ + x₇x₅x₄x₃ + x₇x₅x₄x₂ + x₇x₅x₄x₁ + x₇x₅x₃x₂ + x₇x₅x₃x₁ + x₇x₅x₂x₁ + x₇x₄x₃x₂ + x₇x₄x₃x₁ + x₇x₄x₂x₁ + x₇x₃x₂x₁ + x₆x₅x₄x₃ + x₆x₅x₄x₂ + x₆x₅x₄x₁ + x₆x₅x₃x₂ + x₆x₅x₃x₁ + x₆x₅x₂x₁ + x₆x₄x₃x₂ + x₆x₄x₃x₁ + x₆x₄x₂x₁ + x₆x₃x₂x₁ + x₅x₄x₃x₂ + x₅x₄x₃x₁ + x₅x₄x₂x₁ + x₅x₃x₂x₁ + x₄x₃x₂x₁ + x₈x₇x₆ + x₈x₇x₅ + x₈x₇x₄ + x₈x₇x₃ + x₈x₇x₂ + x₈x₇x₁ + x₈x₆x₅ + x₈x₆x₄ + x₈x₆x₃ + x₈x₆x₂ + x₈x₆x₁ + x₈x₅x₄ + x₈x₅x₃ + x₈x₅x₂ + x₈x₅x₁ + x₈x₄x₃ + x₈x₄x₂ + x₈x₄x₁ + x₈x₃x₂ + x₈x₃x₁ + x₈x₂x₁ + x₇x₆x₅ + x₇x₆x₄ + x₇x₆x₃ + x₇x₆x₂ + x₇x₆x₁ + x₇x₅x₄ + x₇x₅x₃ + x₇x₅x₂ + x₇x₅x₁ + x₇x₄x₃ + x₇x₄x₂ + x₇x₄x₁ + x₇x₃x₂ + x₇x₃x₁ + x₇x₂x₁ + x₆x₅x₄ + x₆x₅x₃ + x₆x₅x₂ + x₆x₅x₁ + x₆x₄x₃ + x₆x₄x₂ + x₆x₄x₁ + x₆x₃x₂ + x₆x₃x₁ + x₆x₂x₁ + x₅x₄x₃ + x₅x₄x₂ + x₅x₄x₁ + x₅x₃x₂ + x₅x₃x₁ + x₅x₂x₁ + x₄x₃x₂ + x₄x₃x₁ + x₄x₂x₁ + x₃x₂x₁)), 1, 0, RandomChoice{𝔽[8], 𝔽[8]}(0.01, 0, 1))), HFSPPolynomial{𝔽₄, 𝔽₄, Tuple{RandomChoice{𝔽[8], WeakMajorityRule{𝔽[8]}}, 𝔽[8], 𝔽[8], RandomChoice{𝔽[8], 𝔽[8]}}}(x₁, x₁, (RandomChoice{𝔽[8], WeakMajorityRule{𝔽[8]}}(0.01, 1, WeakMajorityRule{𝔽[8]}(7, x₈x₇x₆x₅ + x₈x₇x₆x₄ + x₈x₇x₆x₃ + x₈x₇x₆x₂ + x₈x₇x₆x₁ + x₈x₇x₅x₄ + x₈x₇x₅x₃ + x₈x₇x₅x₂ + x₈x₇x₅x₁ + x₈x₇x₄x₃ + x₈x₇x₄x₂ + x₈x₇x₄x₁ + x₈x₇x₃x₂ + x₈x₇x₃x₁ + x₈x₇x₂x₁ + x₈x₆x₅x₄ + x₈x₆x₅x₃ + x₈x₆x₅x₂ + x₈x₆x₅x₁ + x₈x₆x₄x₃ + x₈x₆x₄x₂ + x₈x₆x₄x₁ + x₈x₆x₃x₂ + x₈x₆x₃x₁ + x₈x₆x₂x₁ + x₈x₅x₄x₃ + x₈x₅x₄x₂ + x₈x₅x₄x₁ + x₈x₅x₃x₂ + x₈x₅x₃x₁ + x₈x₅x₂x₁ + x₈x₄x₃x₂ + x₈x₄x₃x₁ + x₈x₄x₂x₁ + x₈x₃x₂x₁ + x₇x₆x₅x₄ + x₇x₆x₅x₃ + x₇x₆x₅x₂ + x₇x₆x₅x₁ + x₇x₆x₄x₃ + x₇x₆x₄x₂ + x₇x₆x₄x₁ + x₇x₆x₃x₂ + x₇x₆x₃x₁ + x₇x₆x₂x₁ + x₇x₅x₄x₃ + x₇x₅x₄x₂ + x₇x₅x₄x₁ + x₇x₅x₃x₂ + x₇x₅x₃x₁ + x₇x₅x₂x₁ + x₇x₄x₃x₂ + x₇x₄x₃x₁ + x₇x₄x₂x₁ + x₇x₃x₂x₁ + x₆x₅x₄x₃ + x₆x₅x₄x₂ + x₆x₅x₄x₁ + x₆x₅x₃x₂ + x₆x₅x₃x₁ + x₆x₅x₂x₁ + x₆x₄x₃x₂ + x₆x₄x₃x₁ + x₆x₄x₂x₁ + x₆x₃x₂x₁ + x₅x₄x₃x₂ + x₅x₄x₃x₁ + x₅x₄x₂x₁ + x₅x₃x₂x₁ + x₄x₃x₂x₁)), 1, 0, RandomChoice{𝔽[8], 𝔽[8]}(0.01, 0, 1))), HFSPPolynomial{𝔽₄, 𝔽₄, Tuple{RandomChoice{𝔽[8], WeakMajorityRule{𝔽[8]}}, 𝔽[8], 𝔽[8], RandomChoice{𝔽[8], 𝔽[8]}}}(x₁, x₁, (RandomChoice{𝔽[8], WeakMajorityRule{𝔽[8]}}(0.01, 1, WeakMajorityRule{𝔽[8]}(8, x₈x₇x₆x₅x₄x₃x₂x₁ + x₈x₇x₆x₅ + x₈x₇x₆x₄ + x₈x₇x₆x₃ + x₈x₇x₆x₂ + x₈x₇x₆x₁ + x₈x₇x₅x₄ + x₈x₇x₅x₃ + x₈x₇x₅x₂ + x₈x₇x₅x₁ + x₈x₇x₄x₃ + x₈x₇x₄x₂ + x₈x₇x₄x₁ + x₈x₇x₃x₂ + x₈x₇x₃x₁ + x₈x₇x₂x₁ + x₈x₆x₅x₄ + x₈x₆x₅x₃ + x₈x₆x₅x₂ + x₈x₆x₅x₁ + x₈x₆x₄x₃ + x₈x₆x₄x₂ + x₈x₆x₄x₁ + x₈x₆x₃x₂ + x₈x₆x₃x₁ + x₈x₆x₂x₁ + x₈x₅x₄x₃ + x₈x₅x₄x₂ + x₈x₅x₄x₁ + x₈x₅x₃x₂ + x₈x₅x₃x₁ + x₈x₅x₂x₁ + x₈x₄x₃x₂ + x₈x₄x₃x₁ + x₈x₄x₂x₁ + x₈x₃x₂x₁ + x₇x₆x₅x₄ + x₇x₆x₅x₃ + x₇x₆x₅x₂ + x₇x₆x₅x₁ + x₇x₆x₄x₃ + x₇x₆x₄x₂ + x₇x₆x₄x₁ + x₇x₆x₃x₂ + x₇x₆x₃x₁ + x₇x₆x₂x₁ + x₇x₅x₄x₃ + x₇x₅x₄x₂ + x₇x₅x₄x₁ + x₇x₅x₃x₂ + x₇x₅x₃x₁ + x₇x₅x₂x₁ + x₇x₄x₃x₂ + x₇x₄x₃x₁ + x₇x₄x₂x₁ + x₇x₃x₂x₁ + x₆x₅x₄x₃ + x₆x₅x₄x₂ + x₆x₅x₄x₁ + x₆x₅x₃x₂ + x₆x₅x₃x₁ + x₆x₅x₂x₁ + x₆x₄x₃x₂ + x₆x₄x₃x₁ + x₆x₄x₂x₁ + x₆x₃x₂x₁ + x₅x₄x₃x₂ + x₅x₄x₃x₁ + x₅x₄x₂x₁ + x₅x₃x₂x₁ + x₄x₃x₂x₁)), 1, 0, RandomChoice{𝔽[8], 𝔽[8]}(0.01, 0, 1)))])"
      ]
     },
     "execution_count": 8,
     "metadata": {},
     "output_type": "execute_result"
    }
   ],
   "source": [
    "model = model3(graph, g, H)"
   ]
  },
  {
   "cell_type": "code",
   "execution_count": null,
   "id": "5f68c799",
   "metadata": {},
   "outputs": [],
   "source": []
  }
 ],
 "metadata": {
  "kernelspec": {
   "display_name": "Julia 1.6.3",
   "language": "julia",
   "name": "julia-1.6"
  },
  "language_info": {
   "file_extension": ".jl",
   "mimetype": "application/julia",
   "name": "julia",
   "version": "1.6.3"
  }
 },
 "nbformat": 4,
 "nbformat_minor": 5
}
