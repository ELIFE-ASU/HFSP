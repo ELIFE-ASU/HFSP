{
 "cells": [
  {
   "cell_type": "markdown",
   "id": "fced8745-5ff8-431a-ac98-9dacacb6655b",
   "metadata": {},
   "source": [
    "# This notebook contains the analysis of the network dynamics on the SAM template and Majority Rule version 0\n",
    "### Typical example of naming the dataframes: df_MR0_50_4wC. This dataframe is the ensemble of trajectories with: \n",
    "- Majority Rule 0, hence \"MR0\"\n",
    "- n_critical=50% \n",
    "- temperature schedule is 4wC, meaning 4 week continuous cold. (alternating cold/warm is represented as 4wCW)\n",
    "- typical ensemble size is 10 by default (can be changed in the argument of the generating function) "
   ]
  },
  {
   "cell_type": "code",
   "execution_count": 1,
   "id": "498c0b08-8f45-4971-961d-57d93419c8a4",
   "metadata": {},
   "outputs": [],
   "source": [
    "import sys  \n",
    "sys.path.insert(1, \"..\")\n",
    "from hfsp_scripts import hfsp_functions as hfsp\n",
    "import numpy as np\n",
    "import matplotlib.pyplot as plt \n",
    "from scipy import stats\n",
    "import networkx as nx\n",
    "import pandas as pd\n",
    "import seaborn as sns"
   ]
  },
  {
   "cell_type": "markdown",
   "id": "5096aede-7bcb-4b77-a0a8-7e65f2beac85",
   "metadata": {},
   "source": [
    "# Files and parameters"
   ]
  },
  {
   "cell_type": "code",
   "execution_count": 2,
   "id": "70a452fd-4901-4e02-bd83-f0948509ad0b",
   "metadata": {},
   "outputs": [],
   "source": [
    "T_2d = hfsp.create_tissue(\"../inputs/2d_sam.csv\", True)\n",
    "T_3d = hfsp.create_tissue(\"../inputs/3d_sam.csv\", True)\n",
    "\n",
    "temp_sch_4wC = np.array([672])\n",
    "temp_sch_4wCW = np.array([20,4,20,4,20,4,20,4,20,4,20,4,20,4,20,4,20,4,20,4,20,4,20,4,20,4,20,4,20,4,20,4,20,4,\n",
    "                          20,4,20,4,20,4,20,4,20,4,20,4,20,4,20,4,20,4,20,4,20,4,20,4,20,4,20,4,20,4,20,4,12])\n",
    "\n",
    "# These parameter values are for FT1\n",
    "p_decay0 = 0\n",
    "p_decay1 = 0.00003\n",
    "p_decay2 = 0.00004\n",
    "p_cold_2d = 0.0003\n",
    "p_warm_2d = 0.03\n",
    "p_cold_3d = 0.0004\n",
    "p_warm_3d = 0.015\n",
    "p_edge = 1"
   ]
  },
  {
   "cell_type": "markdown",
   "id": "c27f85c2-9656-4b5a-b207-0397edd2bba5",
   "metadata": {},
   "source": [
    "# Define g: chosen SAM template"
   ]
  },
  {
   "cell_type": "code",
   "execution_count": 3,
   "id": "845bbb0a-41d9-47e2-9dd3-4e91f3f06041",
   "metadata": {},
   "outputs": [],
   "source": [
    "g = T_3d"
   ]
  },
  {
   "cell_type": "code",
   "execution_count": 7,
   "id": "416e4ac3-b21b-41e8-bd68-8d6cd2197aa8",
   "metadata": {},
   "outputs": [],
   "source": [
    "hfsp.update_spontaneous(g, jump_state = np.concatenate((np.zeros(len(g.nodes()), dtype = int) , np.ones(len(g.edges()), dtype = int)))) # setting the network state to default with all green edges.\n",
    "\n",
    "trj_MR0_50_4wCW = hfsp.trajectory(g, temp_sch_4wCW, p_decay2, p_cold_3d, p_warm_3d, p_edge, rule_code_node = [0,0.5], rule_code_edge = None)"
   ]
  },
  {
   "cell_type": "code",
   "execution_count": 8,
   "id": "c99293f4-51e6-4711-8820-335e69ad98e6",
   "metadata": {},
   "outputs": [],
   "source": [
    "trj_MR0_50_4wCW.to_csv(\"trj_MR0_4wCW.csv\")"
   ]
  },
  {
   "cell_type": "code",
   "execution_count": null,
   "id": "b9c05643-3fe0-476a-bb61-a3b6475c4e3c",
   "metadata": {},
   "outputs": [],
   "source": []
  },
  {
   "cell_type": "code",
   "execution_count": null,
   "id": "566645d5-4cbe-489b-89b3-6aecc01cc60f",
   "metadata": {},
   "outputs": [],
   "source": []
  },
  {
   "cell_type": "markdown",
   "id": "d539d008-f300-447a-882e-d7d758da2d11",
   "metadata": {},
   "source": [
    "## Set-1 Data frames for MR0 and n_critical = 50%"
   ]
  },
  {
   "cell_type": "code",
   "execution_count": null,
   "id": "709b586b-f910-437b-9a49-fb289ddf5f42",
   "metadata": {},
   "outputs": [],
   "source": [
    "%%time\n",
    "\n",
    "hfsp.update_spontaneous(g, jump_state = np.concatenate((np.zeros(len(g.nodes()), dtype = int) , np.ones(len(g.edges()), dtype = int)))) # setting the network state to default with all green edges.\n",
    "df_MR0_50_4wC = hfsp.ensemble(g, temp_sch_4wC, p_decay2, p_cold_3d, p_warm_3d, p_edge, rule_code_node = [0,0.5], rule_code_edge = None, \n",
    "                              ensemble_size = 10 , jump_state = np.concatenate((np.zeros(len(g.nodes()), dtype = int) , np.ones(len(g.edges()), dtype = int))))\n",
    "\n",
    "hfsp.update_spontaneous(g, jump_state = np.concatenate((np.zeros(len(g.nodes()), dtype = int) , np.ones(len(g.edges()), dtype = int)))) # setting the network state to default with all green edges.\n",
    "df_MR0_50_4wCW = hfsp.ensemble(g, temp_sch_4wCW, p_decay2, p_cold_3d, p_warm_3d, p_edge, \n",
    "                          rule_code_node = [0,0.5], rule_code_edge = None, ensemble_size = 10 , jump_state = np.concatenate((np.zeros(len(g.nodes()), dtype = int) , np.ones(len(g.edges()), dtype = int))))\n",
    "\n",
    "\n",
    "hfsp.update_spontaneous(g, jump_state = np.concatenate((np.zeros(len(g.nodes()), dtype = int) , np.ones(len(g.edges()), dtype = int)))) # setting the network state to default with all green edges.\n",
    "df_noMR_4wC = hfsp.ensemble(g, temp_sch_4wC, p_decay2, p_cold_3d, p_warm_3d, p_edge, \n",
    "                        rule_code_node = [0,1], rule_code_edge = None, ensemble_size = 10, jump_state = np.concatenate((np.zeros(len(g.nodes()), dtype = int) , np.ones(len(g.edges()), dtype = int))))\n",
    "\n",
    "hfsp.update_spontaneous(g, jump_state = np.concatenate((np.zeros(len(g.nodes()), dtype = int) , np.ones(len(g.edges()), dtype = int)))) # setting the network state to default with all green edges.\n",
    "df_MR0_50_NoDecay_4wC = hfsp.ensemble(g, temp_sch_4wC, p_decay0, p_cold_3d, p_warm_3d, p_edge, \n",
    "                                  rule_code_node = [0,0.5], rule_code_edge = None, ensemble_size = 10 , jump_state = np.concatenate((np.zeros(len(g.nodes()), dtype = int) , np.ones(len(g.edges()), dtype = int))))\n",
    "\n"
   ]
  },
  {
   "cell_type": "markdown",
   "id": "988e92fa-e1be-46ac-bd68-492daacc1068",
   "metadata": {},
   "source": [
    "## Data Frames for MR0, 4wC, varying n_critical"
   ]
  },
  {
   "cell_type": "code",
   "execution_count": null,
   "id": "1c2f8e59-2299-4268-a77c-f37c658905ce",
   "metadata": {},
   "outputs": [],
   "source": [
    "%%time\n",
    "\n",
    "hfsp.update_spontaneous(g, jump_state = np.concatenate((np.zeros(len(g.nodes()), dtype = int) , np.ones(len(g.edges()), dtype = int)))) # setting the network state to default.\n",
    "df_MR0_30_4wC = hfsp.ensemble(g, temp_sch_4wC, p_decay2, p_cold_3d, p_warm_3d, p_edge, \n",
    "                          rule_code_node = [0,0.3], rule_code_edge = None, ensemble_size = 5 , jump_state = np.concatenate((np.zeros(len(g.nodes()), dtype = int) , np.ones(len(g.edges()), dtype = int))))\n",
    "\n",
    "hfsp.update_spontaneous(g, jump_state = np.concatenate((np.zeros(len(g.nodes()), dtype = int) , np.ones(len(g.edges()), dtype = int)))) # setting the network state to default.\n",
    "df_MR0_40_4wC = hfsp.ensemble(g, temp_sch_4wC, p_decay2, p_cold_3d, p_warm_3d, p_edge, \n",
    "                          rule_code_node = [0,0.4], rule_code_edge = None, ensemble_size = 5 , jump_state = np.concatenate((np.zeros(len(g.nodes()), dtype = int) , np.ones(len(g.edges()), dtype = int))))\n",
    "\n",
    "hfsp.update_spontaneous(g, jump_state = np.concatenate((np.zeros(len(g.nodes()), dtype = int) , np.ones(len(g.edges()), dtype = int)))) # setting the network state to default.\n",
    "df_MR0_45_4wC = hfsp.ensemble(g, temp_sch_4wC, p_decay2, p_cold_3d, p_warm_3d, p_edge, \n",
    "                          rule_code_node = [0,0.45], rule_code_edge = None, ensemble_size = 5 , jump_state = np.concatenate((np.zeros(len(g.nodes()), dtype = int) , np.ones(len(g.edges()), dtype = int))))\n",
    "\n",
    "hfsp.update_spontaneous(g, jump_state = np.concatenate((np.zeros(len(g.nodes()), dtype = int) , np.ones(len(g.edges()), dtype = int)))) # setting the network state to default.\n",
    "df_MR0_55_4wC = hfsp.ensemble(g, temp_sch_4wC, p_decay2, p_cold_3d, p_warm_3d, p_edge, \n",
    "                          rule_code_node = [0,0.55], rule_code_edge = None, ensemble_size = 5 , jump_state = np.concatenate((np.zeros(len(g.nodes()), dtype = int) , np.ones(len(g.edges()), dtype = int))))\n",
    "\n",
    "hfsp.update_spontaneous(g, jump_state = np.concatenate((np.zeros(len(g.nodes()), dtype = int) , np.ones(len(g.edges()), dtype = int)))) # setting the network state to default.\n",
    "df_MR0_60_4wC = hfsp.ensemble(g, temp_sch_4wC, p_decay2, p_cold_3d, p_warm_3d, p_edge, \n",
    "                          rule_code_node = [0,0.6], rule_code_edge = None, ensemble_size = 5 , jump_state = np.concatenate((np.zeros(len(g.nodes()), dtype = int) , np.ones(len(g.edges()), dtype = int))))\n",
    "\n",
    "hfsp.update_spontaneous(g, jump_state = np.concatenate((np.zeros(len(g.nodes()), dtype = int) , np.ones(len(g.edges()), dtype = int)))) # setting the network state to default.\n",
    "df_MR0_70_4wC = hfsp.ensemble(g, temp_sch_4wC, p_decay2, p_cold_3d, p_warm_3d, p_edge, \n",
    "                          rule_code_node = [0,0.7], rule_code_edge = None, ensemble_size = 5 , jump_state = np.concatenate((np.zeros(len(g.nodes()), dtype = int) , np.ones(len(g.edges()), dtype = int))))\n"
   ]
  },
  {
   "cell_type": "markdown",
   "id": "4f0819b2-63d8-4734-b522-4405fa12bbfc",
   "metadata": {},
   "source": [
    "## Data Frames for MR0, 4wCW, varying n_critical"
   ]
  },
  {
   "cell_type": "code",
   "execution_count": null,
   "id": "b619273d-9126-475c-81df-fbe090f79b85",
   "metadata": {},
   "outputs": [],
   "source": [
    "%%time\n",
    "\n",
    "hfsp.update_spontaneous(g, jump_state = np.concatenate((np.zeros(len(g.nodes()), dtype = int) , np.ones(len(g.edges()), dtype = int)))) # setting the network state to default.\n",
    "df_MR0_30_4wCW = hfsp.ensemble(g, temp_sch_4wCW, p_decay2, p_cold_3d, p_warm_3d, p_edge, \n",
    "                          rule_code_node = [0,0.3], rule_code_edge = None, ensemble_size = 5 , jump_state = np.concatenate((np.zeros(len(g.nodes()), dtype = int) , np.ones(len(g.edges()), dtype = int))))\n",
    "\n",
    "hfsp.update_spontaneous(g, jump_state = np.concatenate((np.zeros(len(g.nodes()), dtype = int) , np.ones(len(g.edges()), dtype = int)))) # setting the network state to default.\n",
    "df_MR0_40_4wCW = hfsp.ensemble(g, temp_sch_4wCW, p_decay2, p_cold_3d, p_warm_3d, p_edge, \n",
    "                          rule_code_node = [0,0.4], rule_code_edge = None, ensemble_size = 5 , jump_state = np.concatenate((np.zeros(len(g.nodes()), dtype = int) , np.ones(len(g.edges()), dtype = int))))\n",
    "\n",
    "hfsp.update_spontaneous(g, jump_state = np.concatenate((np.zeros(len(g.nodes()), dtype = int) , np.ones(len(g.edges()), dtype = int)))) # setting the network state to default.\n",
    "df_MR0_45_4wCW = hfsp.ensemble(g, temp_sch_4wCW, p_decay2, p_cold_3d, p_warm_3d, p_edge, \n",
    "                          rule_code_node = [0,0.45], rule_code_edge = None, ensemble_size = 5 , jump_state = np.concatenate((np.zeros(len(g.nodes()), dtype = int) , np.ones(len(g.edges()), dtype = int))))\n",
    "\n",
    "hfsp.update_spontaneous(g, jump_state = np.concatenate((np.zeros(len(g.nodes()), dtype = int) , np.ones(len(g.edges()), dtype = int)))) # setting the network state to default.\n",
    "df_MR0_55_4wCW = hfsp.ensemble(g, temp_sch_4wCW, p_decay2, p_cold_3d, p_warm_3d, p_edge, \n",
    "                          rule_code_node = [0,0.55], rule_code_edge = None, ensemble_size = 5 , jump_state = np.concatenate((np.zeros(len(g.nodes()), dtype = int) , np.ones(len(g.edges()), dtype = int))))\n",
    "\n",
    "hfsp.update_spontaneous(g, jump_state = np.concatenate((np.zeros(len(g.nodes()), dtype = int) , np.ones(len(g.edges()), dtype = int)))) # setting the network state to default.\n",
    "df_MR0_60_4wCW = hfsp.ensemble(g, temp_sch_4wCW, p_decay2, p_cold_3d, p_warm_3d, p_edge, \n",
    "                          rule_code_node = [0,0.6], rule_code_edge = None, ensemble_size = 5 , jump_state = np.concatenate((np.zeros(len(g.nodes()), dtype = int) , np.ones(len(g.edges()), dtype = int))))\n",
    "\n",
    "hfsp.update_spontaneous(g, jump_state = np.concatenate((np.zeros(len(g.nodes()), dtype = int) , np.ones(len(g.edges()), dtype = int)))) # setting the network state to default.\n",
    "df_MR0_70_4wCW = hfsp.ensemble(g, temp_sch_4wCW, p_decay2, p_cold_3d, p_warm_3d, p_edge, \n",
    "                          rule_code_node = [0,0.7], rule_code_edge = None, ensemble_size = 5 , jump_state = np.concatenate((np.zeros(len(g.nodes()), dtype = int) , np.ones(len(g.edges()), dtype = int))))\n"
   ]
  },
  {
   "cell_type": "markdown",
   "id": "25dc1182-01ed-43c4-8918-49a3d8eac2ba",
   "metadata": {},
   "source": [
    "## Typical code example for generating plots."
   ]
  },
  {
   "cell_type": "code",
   "execution_count": null,
   "id": "85578788-36c9-4ca9-b849-267a215fa1c0",
   "metadata": {},
   "outputs": [],
   "source": [
    "sns.set()\n",
    "sns.set_style(\"white\")\n",
    "fig, ax = plt.subplots()\n",
    "ax.set_ylabel(r\"% $\\rm{of\\ cells\\ expressing}$ FT1\", font = \"Arial\", style = 'italic')\n",
    "ax.set_xlabel(r\"Time (1 unit = 1 hour)\", font = \"Arial\")\n",
    "ax.set_title(r\"Simulation with MR0, n_critical = 50%, 4-week cold\", font = \"Arial\", fontsize = 13)\n",
    "\n",
    "ax.plot(df_MR0_50_4wC['time'], df_MR0_50_4wC['mean'], 'g', label='p_decay = 0.00003')\n",
    "ax.fill_between(df_MR0_50_4wC['time'], df_MR0_50_4wC['lower'], df_MR0_50_4wC['upper'], color='g', alpha=0.2)\n",
    "\n",
    "ax.tick_params(bottom = True, left = True, direction=\"inout\")\n",
    "ax.set_xlim(0,)\n",
    "ax.set_ylim(0,)\n",
    "ax.legend(loc = \"upper left\")\n",
    "plt.show()\n",
    "# fig.savefig(\"hfsp_with_vs_without_decay_2D.png\", dpi = 600)"
   ]
  },
  {
   "cell_type": "code",
   "execution_count": null,
   "id": "ef18e166-645e-4342-a54a-d4282dced0fb",
   "metadata": {},
   "outputs": [],
   "source": []
  },
  {
   "cell_type": "markdown",
   "id": "7719e85d-f32d-45d6-91aa-d0f497b28143",
   "metadata": {},
   "source": [
    "# Space for experiments"
   ]
  },
  {
   "cell_type": "code",
   "execution_count": null,
   "id": "7c0b644e-c69b-4f6f-be6e-b08981687430",
   "metadata": {},
   "outputs": [],
   "source": [
    "# Simulations with varying n_critical, 4-week cold, Majority Rule 0\n",
    "\n",
    "cmap = plt.get_cmap('winter')\n",
    "colors = cmap(np.linspace(0,1,7)) #get 10 colors along the full range of hsv colormap\n",
    "\n",
    "sns.set()\n",
    "sns.set_style(\"white\")\n",
    "fig, ax = plt.subplots()\n",
    "ax.set_ylabel(r\"% $\\rm{of\\ cells\\ expressing}$ FT1\", font = \"Arial\", style = 'italic')\n",
    "ax.set_xlabel(r\"Time (1 unit = 1 hour)\", font = \"Arial\")\n",
    "ax.set_title(r\"Simulations with varying n_critical, 4-week cold, Majority Rule 0\", font = \"Arial\", fontsize = 13)\n",
    "\n",
    "\n",
    "ax.plot(df_MR0_30_4wC['time'], df_MR0_30_4wC['mean'], color = colors[0], label='30%')\n",
    "ax.fill_between(df_MR0_30_4wC['time'], df_MR0_30_4wC['lower'], df_MR0_30_4wC['upper'], color = colors[0], alpha=0.2)\n",
    "\n",
    "ax.plot(df_MR0_40_4wC['time'], df_MR0_40_4wC['mean'], color = colors[1], label='40%')\n",
    "ax.fill_between(df_MR0_40_4wC['time'], df_MR0_40_4wC['lower'], df_MR0_40_4wC['upper'], color= colors[1], alpha=0.2)\n",
    "\n",
    "ax.plot(df_MR0_45_4wC['time'], df_MR0_45_4wC['mean'], color = colors[2], label='45%')\n",
    "ax.fill_between(df_MR0_45_4wC['time'], df_MR0_45_4wC['lower'], df_MR0_45_4wC['upper'], color= colors[2], alpha=0.2)\n",
    "\n",
    "ax.plot(df_MR0_50_4wC['time'], df_MR0_50_4wC['mean'], color = colors[3], label='50%')\n",
    "ax.fill_between(df_MR0_50_4wC['time'], df_MR0_50_4wC['lower'], df_MR0_50_4wC['upper'], color= colors[3], alpha=0.2)\n",
    "\n",
    "ax.plot(df_MR0_55_4wC['time'], df_MR0_55_4wC['mean'], color = colors[4], label='55%')\n",
    "ax.fill_between(df_MR0_55_4wC['time'], df_MR0_55_4wC['lower'], df_MR0_55_4wC['upper'], color= colors[4], alpha=0.2)\n",
    "\n",
    "ax.plot(df_MR0_60_4wC['time'], df_MR0_60_4wC['mean'], color = colors[5], label='60%')\n",
    "ax.fill_between(df_MR0_60_4wC['time'], df_MR0_60_4wC['lower'], df_MR0_60_4wC['upper'], color=colors[5], alpha=0.2)\n",
    "\n",
    "ax.plot(df_MR0_70_4wC['time'], df_MR0_70_4wC['mean'], color = colors[6], label='70%')\n",
    "ax.fill_between(df_MR0_70_4wC['time'], df_MR0_70_4wC['lower'], df_MR0_70_4wC['upper'], color = colors[6], alpha=0.2)\n",
    "\n",
    "\n",
    "ax.tick_params(bottom = True, left = True, direction=\"inout\")\n",
    "ax.set_xlim(0,)\n",
    "ax.set_ylim(0,)\n",
    "ax.legend(title = \"n_critical\", loc='center left', bbox_to_anchor=(1, 0.5))\n",
    "plt.show()\n",
    "fig.savefig(\"hfsp_varying_n_critical_MR0_3D_4wC.png\", dpi = 600, bbox_inches='tight')"
   ]
  },
  {
   "cell_type": "code",
   "execution_count": null,
   "id": "01d4b766-78bc-41dd-a6a0-f2a11cd07053",
   "metadata": {},
   "outputs": [],
   "source": [
    "# Simulations with varying n_critical, 4-week cold/warm, Majority Rule 0\n",
    "\n",
    "cmap = plt.get_cmap('winter')\n",
    "colors = cmap(np.linspace(0,1,7)) #get 10 colors along the full range of hsv colormap\n",
    "\n",
    "sns.set()\n",
    "sns.set_style(\"white\")\n",
    "fig, ax = plt.subplots()\n",
    "ax.set_ylabel(r\"% $\\rm{of\\ cells\\ expressing}$ FT1\", font = \"Arial\", style = 'italic')\n",
    "ax.set_xlabel(r\"Time (1 unit = 1 hour)\", font = \"Arial\")\n",
    "ax.set_title(r\"Simulations with varying n_critical, 4-week cold/warm, Majority Rule 0\", font = \"Arial\", fontsize = 13)\n",
    "\n",
    "\n",
    "ax.plot(df_MR0_30_4wCW['time'], df_MR0_30_4wCW['mean'], color = colors[0], label='30%')\n",
    "ax.fill_between(df_MR0_30_4wCW['time'], df_MR0_30_4wCW['lower'], df_MR0_30_4wCW['upper'], color = colors[0], alpha=0.2)\n",
    "\n",
    "ax.plot(df_MR0_40_4wCW['time'], df_MR0_40_4wCW['mean'], color = colors[1], label='40%')\n",
    "ax.fill_between(df_MR0_40_4wCW['time'], df_MR0_40_4wCW['lower'], df_MR0_40_4wCW['upper'], color= colors[1], alpha=0.2)\n",
    "\n",
    "ax.plot(df_MR0_45_4wCW['time'], df_MR0_45_4wCW['mean'], color = colors[2], label='45%')\n",
    "ax.fill_between(df_MR0_45_4wCW['time'], df_MR0_45_4wCW['lower'], df_MR0_45_4wCW['upper'], color= colors[2], alpha=0.2)\n",
    "\n",
    "ax.plot(df_MR0_50_4wCW['time'], df_MR0_50_4wCW['mean'], color = colors[3], label='50%')\n",
    "ax.fill_between(df_MR0_50_4wCW['time'], df_MR0_50_4wCW['lower'], df_MR0_50_4wCW['upper'], color= colors[3], alpha=0.2)\n",
    "\n",
    "ax.plot(df_MR0_55_4wCW['time'], df_MR0_55_4wCW['mean'], color = colors[4], label='55%')\n",
    "ax.fill_between(df_MR0_55_4wCW['time'], df_MR0_55_4wCW['lower'], df_MR0_55_4wCW['upper'], color= colors[4], alpha=0.2)\n",
    "\n",
    "ax.plot(df_MR0_60_4wCW['time'], df_MR0_60_4wCW['mean'], color = colors[5], label='60%')\n",
    "ax.fill_between(df_MR0_60_4wCW['time'], df_MR0_60_4wCW['lower'], df_MR0_60_4wCW['upper'], color=colors[5], alpha=0.2)\n",
    "\n",
    "ax.plot(df_MR0_70_4wCW['time'], df_MR0_70_4wCW['mean'], color = colors[6], label='70%')\n",
    "ax.fill_between(df_MR0_70_4wCW['time'], df_MR0_70_4wCW['lower'], df_MR0_70_4wCW['upper'], color = colors[6], alpha=0.2)\n",
    "\n",
    "\n",
    "ax.tick_params(bottom = True, left = True, direction=\"inout\")\n",
    "ax.set_xlim(0,)\n",
    "ax.set_ylim(0,)\n",
    "ax.legend(title = \"n_critical\", loc='center left', bbox_to_anchor=(1, 0.5))\n",
    "plt.show()\n",
    "fig.savefig(\"hfsp_varying_n_critical_MR0_3D_4wCW.png\", dpi = 600, bbox_inches='tight')"
   ]
  },
  {
   "cell_type": "code",
   "execution_count": null,
   "id": "a6302524-bf33-4804-b978-0d1d601bb959",
   "metadata": {},
   "outputs": [],
   "source": [
    "# unsorted experiment\n",
    "\n",
    "sns.set()\n",
    "sns.set_style(\"white\")\n",
    "fig, ax = plt.subplots()\n",
    "ax.set_ylabel(r\"% $\\rm{of\\ cells\\ expressing}$ FT1\", font = \"Arial\", style = 'italic')\n",
    "ax.set_xlabel(r\"Time (1 unit = 1 hour)\", font = \"Arial\")\n",
    "ax.set_title(r\"Simulation with MR0, n_critical = 50%, 4-week cold\", font = \"Arial\", fontsize = 13)\n",
    "\n",
    "ax.plot(df_MR0_50_4wC['time'], df_MR0_50_4wC['mean'], 'g', label= 'Continuous cold_4wC')\n",
    "ax.fill_between(df_MR0_50_4wC['time'], df_MR0_50_4wC['lower'], df_MR0_50_4wC['upper'], color='g', alpha=0.2)\n",
    "\n",
    "ax.plot(df_MR0_50_4wCW['time'], df_MR0_50_4wCW['mean'], 'blue', label= 'Alternating cold/warm_4wCW')\n",
    "ax.fill_between(df_MR0_50_4wCW['time'], df_MR0_50_4wCW['lower'], df_MR0_50_4wCW['upper'], color='blue', alpha=0.2)\n",
    "\n",
    "ax.tick_params(bottom = True, left = True, direction=\"inout\")\n",
    "ax.set_xlim(0,)\n",
    "ax.set_ylim(0,)\n",
    "ax.legend(loc = \"upper left\")\n",
    "plt.show()\n",
    "fig.savefig(\"hfsp_4wC_and_4wCW_MR0_3D.png\", dpi = 600)"
   ]
  },
  {
   "cell_type": "code",
   "execution_count": null,
   "id": "0adc2b5d-32c2-4308-9643-51406423108f",
   "metadata": {},
   "outputs": [],
   "source": [
    "# unsorted experiment for GA20Ox-1\n",
    "\n",
    "T_2d = hfsp.create_tissue(\"../inputs/2d_sam.csv\", True)\n",
    "T_3d = hfsp.create_tissue(\"../inputs/3d_sam.csv\", True)\n",
    "\n",
    "temp_sch_4wC = np.array([672])\n",
    "temp_sch_4wCW = np.array([20,4,20,4,20,4,20,4,20,4,20,4,20,4,20,4,20,4,20,4,20,4,20,4,20,4,20,4,20,4,20,4,20,4,\n",
    "                          20,4,20,4,20,4,20,4,20,4,20,4,20,4,20,4,20,4,20,4,20,4,20,4,20,4,20,4,20,4,20,4,12])\n",
    "\n",
    "p_decay0 = 0\n",
    "p_decay1 = 0.000006\n",
    "p_decay2 = 0.000005\n",
    "p_cold_2d = 0.00006\n",
    "p_warm_2d = 0.02\n",
    "p_cold_3d = 0.00005\n",
    "p_warm_3d = 0.025\n",
    "p_edge = 1\n",
    "\n",
    "g = T_3d\n",
    "\n",
    "hfsp.update_spontaneous(g, jump_state = np.concatenate((np.zeros(len(g.nodes()), dtype = int) , np.ones(len(g.edges()), dtype = int)))) # setting the network state to default with all green edges.\n",
    "df_MR0_50_4wC = hfsp.ensemble(g, temp_sch_4wC, p_decay2, p_cold_3d, p_warm_3d, p_edge, rule_code_node = [0,0.5], rule_code_edge = None, \n",
    "                              ensemble_size = 10 , jump_state = np.concatenate((np.zeros(len(g.nodes()), dtype = int) , np.ones(len(g.edges()), dtype = int))))\n",
    "\n",
    "hfsp.update_spontaneous(g, jump_state = np.concatenate((np.zeros(len(g.nodes()), dtype = int) , np.ones(len(g.edges()), dtype = int)))) # setting the network state to default with all green edges.\n",
    "df_MR0_50_4wCW = hfsp.ensemble(g, temp_sch_4wCW, p_decay2, p_cold_3d, p_warm_3d, p_edge, \n",
    "                          rule_code_node = [0,0.5], rule_code_edge = None, ensemble_size = 10 , jump_state = np.concatenate((np.zeros(len(g.nodes()), dtype = int) , np.ones(len(g.edges()), dtype = int))))\n",
    "\n",
    "sns.set()\n",
    "sns.set_style(\"white\")\n",
    "fig, ax = plt.subplots()\n",
    "ax.set_ylabel(r\"% $\\rm{of\\ cells\\ expressing}$ GA20Ox-1\", font = \"Arial\", style = 'italic')\n",
    "ax.set_xlabel(r\"Time (1 unit = 1 hour)\", font = \"Arial\")\n",
    "ax.set_title(r\"Simulation with 4 week cold and 4 week cold/warm\", font = \"Arial\", fontsize = 13)\n",
    "\n",
    "ax.plot(df_MR0_50_4wC['time'], df_MR0_50_4wC['mean'], 'g', label= 'Continuous cold_4wC')\n",
    "ax.fill_between(df_MR0_50_4wC['time'], df_MR0_50_4wC['lower'], df_MR0_50_4wC['upper'], color='g', alpha=0.2)\n",
    "\n",
    "ax.plot(df_MR0_50_4wCW['time'], df_MR0_50_4wCW['mean'], 'blue', label= 'Alternating cold/warm_4wCW')\n",
    "ax.fill_between(df_MR0_50_4wCW['time'], df_MR0_50_4wCW['lower'], df_MR0_50_4wCW['upper'], color='blue', alpha=0.2)\n",
    "\n",
    "ax.tick_params(bottom = True, left = True, direction=\"inout\")\n",
    "ax.set_xlim(0,)\n",
    "ax.set_ylim(0,)\n",
    "ax.legend(loc = \"upper left\")\n",
    "plt.show()\n",
    "fig.savefig(\"hfsp_4wC_and_4wCW_GA_MR0_3D.png\", dpi = 600)"
   ]
  },
  {
   "cell_type": "code",
   "execution_count": null,
   "id": "77de3492-aa34-4a3d-94ab-e9f4d04588cc",
   "metadata": {},
   "outputs": [],
   "source": [
    "%%time\n",
    "# experiment for FT1, to find variance in a large ensemble size.\n",
    "# n_crit = 50%\n",
    "# ens size = 50\n",
    "\n",
    "\n",
    "hfsp.update_spontaneous(g, jump_state = np.concatenate((np.zeros(len(g.nodes()), dtype = int) , np.ones(len(g.edges()), dtype = int)))) # setting the network state to default with all green edges.\n",
    "df_MR0_50_4wC_ens50 = hfsp.ensemble(g, temp_sch_4wC, p_decay2, p_cold_3d, p_warm_3d, p_edge, rule_code_node = [0,0.5], rule_code_edge = None, \n",
    "                              ensemble_size = 50 , jump_state = np.concatenate((np.zeros(len(g.nodes()), dtype = int) , np.ones(len(g.edges()), dtype = int))))\n",
    "\n",
    "hfsp.update_spontaneous(g, jump_state = np.concatenate((np.zeros(len(g.nodes()), dtype = int) , np.ones(len(g.edges()), dtype = int)))) # setting the network state to default with all green edges.\n",
    "df_MR0_50_4wCW_ens50 = hfsp.ensemble(g, temp_sch_4wCW, p_decay2, p_cold_3d, p_warm_3d, p_edge, \n",
    "                          rule_code_node = [0,0.5], rule_code_edge = None, ensemble_size = 50 , jump_state = np.concatenate((np.zeros(len(g.nodes()), dtype = int) , np.ones(len(g.edges()), dtype = int))))"
   ]
  },
  {
   "cell_type": "code",
   "execution_count": null,
   "id": "cfec3d83-8894-4eff-81c0-82a57a3d9be2",
   "metadata": {},
   "outputs": [],
   "source": [
    "%%time\n",
    "# experiment for GA, to find variance in a large ensemble size.\n",
    "# n_crit = 50%\n",
    "# ens size = 50\n",
    "\n",
    "p_decay_GA = 0.000005\n",
    "p_cold_GA = 0.00005\n",
    "p_warm_GA = 0.025\n",
    "\n",
    "hfsp.update_spontaneous(g, jump_state = np.concatenate((np.zeros(len(g.nodes()), dtype = int) , np.ones(len(g.edges()), dtype = int)))) # setting the network state to default with all green edges.\n",
    "df_MR0_50_4wC_GA_ens50 = hfsp.ensemble(g, temp_sch_4wC, p_decay_GA, p_cold_GA, p_warm_GA, p_edge = 1, rule_code_node = [0,0.5], rule_code_edge = None, \n",
    "                              ensemble_size = 50 , jump_state = np.concatenate((np.zeros(len(g.nodes()), dtype = int) , np.ones(len(g.edges()), dtype = int))))\n",
    "\n",
    "hfsp.update_spontaneous(g, jump_state = np.concatenate((np.zeros(len(g.nodes()), dtype = int) , np.ones(len(g.edges()), dtype = int)))) # setting the network state to default with all green edges.\n",
    "df_MR0_50_4wCW_GA_ens50 = hfsp.ensemble(g, temp_sch_4wCW, p_decay_GA, p_cold_GA, p_warm_GA, p_edge = 1, \n",
    "                          rule_code_node = [0,0.5], rule_code_edge = None, ensemble_size = 50 , jump_state = np.concatenate((np.zeros(len(g.nodes()), dtype = int) , np.ones(len(g.edges()), dtype = int))))\n"
   ]
  },
  {
   "cell_type": "code",
   "execution_count": null,
   "id": "c5a60d90-a543-43cb-8b77-a7be406334b0",
   "metadata": {},
   "outputs": [],
   "source": [
    "df_MR0_50_4wC_ens50.to_csv('df_MR0_50_4wC_ens50.csv')"
   ]
  },
  {
   "cell_type": "code",
   "execution_count": null,
   "id": "ca83bf10-0024-4288-b7ad-9e1d4392f808",
   "metadata": {},
   "outputs": [],
   "source": [
    "df_MR0_50_4wCW_ens50.to_csv('df_MR0_50_4wCW_ens50.csv')"
   ]
  },
  {
   "cell_type": "code",
   "execution_count": null,
   "id": "e51e7bf3-d719-489f-8175-8e6e0d705060",
   "metadata": {},
   "outputs": [],
   "source": [
    "df_MR0_50_4wC_GA_ens50.to_csv('df_MR0_50_4wC_GA_ens50.csv')"
   ]
  },
  {
   "cell_type": "code",
   "execution_count": null,
   "id": "0d248b1a-f406-484f-aacf-55bc438acb41",
   "metadata": {},
   "outputs": [],
   "source": [
    "df_MR0_50_4wCW_GA_ens50.to_csv('df_MR0_50_4wCW_GA_ens50.csv')"
   ]
  },
  {
   "cell_type": "code",
   "execution_count": null,
   "id": "9d644240-666d-4ab6-aecf-a75b0a76d877",
   "metadata": {},
   "outputs": [],
   "source": [
    "sns.set()\n",
    "sns.set_style(\"white\")\n",
    "fig, ax = plt.subplots()\n",
    "ax.set_ylabel(r\"% $\\rm{of\\ cells\\ expressing}$ FT1\", font = \"Arial\", style = 'italic')\n",
    "ax.set_xlabel(r\"Time (1 unit = 1 hour)\", font = \"Arial\")\n",
    "ax.set_title(r\"Simulation with MR0, n_critical = 50%, 4-week cold, ens = 50\", font = \"Arial\", fontsize = 13)\n",
    "\n",
    "ax.plot(df_MR0_50_4wC_ens50['time'], df_MR0_50_4wC_ens50['mean'], 'g', label= 'Continuous cold_4wC')\n",
    "ax.fill_between(df_MR0_50_4wC_ens50['time'], df_MR0_50_4wC_ens50['lower'], df_MR0_50_4wC_ens50['upper'], color='g', alpha=0.2)\n",
    "\n",
    "# ax.plot(df_MR0_50_4wCW['time'], df_MR0_50_4wCW['mean'], 'blue', label= 'Alternating cold/warm_4wCW')\n",
    "# ax.fill_between(df_MR0_50_4wCW['time'], df_MR0_50_4wCW['lower'], df_MR0_50_4wCW['upper'], color='blue', alpha=0.2)\n",
    "\n",
    "ax.tick_params(bottom = True, left = True, direction=\"inout\")\n",
    "ax.set_xlim(0,)\n",
    "ax.set_ylim(0,)\n",
    "ax.legend(loc = \"upper left\")\n",
    "plt.show()\n",
    "# fig.savefig(\"hfsp_4wC_and_4wCW_MR0_3D.png\", dpi = 600)"
   ]
  },
  {
   "cell_type": "code",
   "execution_count": null,
   "id": "3e9e919f-0221-4bf5-9101-4d509db8a436",
   "metadata": {},
   "outputs": [],
   "source": [
    "sns.set()\n",
    "sns.set_style(\"white\")\n",
    "fig, ax = plt.subplots()\n",
    "ax.set_ylabel(r\"% $\\rm{of\\ cells\\ expressing}$ FT1\", font = \"Arial\", style = 'italic')\n",
    "ax.set_xlabel(r\"Time (1 unit = 1 hour)\", font = \"Arial\")\n",
    "ax.set_title(r\"Simulation with MR0, n_critical = 50%, 4-week cold, ens = 50\", font = \"Arial\", fontsize = 13)\n",
    "\n",
    "# ax.plot(df_MR0_50_4wC_ens50['time'], df_MR0_50_4wC_ens50['mean'], 'g', label= 'Continuous cold_4wC')\n",
    "# ax.fill_between(df_MR0_50_4wC_ens50['time'], df_MR0_50_4wC_ens50['lower'], df_MR0_50_4wC_ens50['upper'], color='g', alpha=0.2)\n",
    "\n",
    "ax.plot(df_MR0_50_4wCW_ens50['time'], df_MR0_50_4wCW_ens50['mean'], 'blue', label= 'Alternating cold/warm_4wCW')\n",
    "ax.fill_between(df_MR0_50_4wCW_ens50['time'], df_MR0_50_4wCW_ens50['lower'], df_MR0_50_4wCW_ens50['upper'], color='blue', alpha=0.2)\n",
    "\n",
    "ax.tick_params(bottom = True, left = True, direction=\"inout\")\n",
    "ax.set_xlim(0,)\n",
    "ax.set_ylim(0,)\n",
    "ax.legend(loc = \"upper left\")\n",
    "plt.show()\n",
    "# fig.savefig(\"hfsp_4wC_and_4wCW_MR0_3D.png\", dpi = 600)"
   ]
  },
  {
   "cell_type": "code",
   "execution_count": null,
   "id": "5d743bfd-c237-4198-affa-55eb176d11ad",
   "metadata": {},
   "outputs": [],
   "source": [
    "df_MR0_50_4wC_ens50"
   ]
  },
  {
   "cell_type": "code",
   "execution_count": null,
   "id": "31a9455e-6203-44ef-9693-5486e2536b8a",
   "metadata": {},
   "outputs": [],
   "source": []
  }
 ],
 "metadata": {
  "kernelspec": {
   "display_name": "Python 3 (ipykernel)",
   "language": "python",
   "name": "python3"
  },
  "language_info": {
   "codemirror_mode": {
    "name": "ipython",
    "version": 3
   },
   "file_extension": ".py",
   "mimetype": "text/x-python",
   "name": "python",
   "nbconvert_exporter": "python",
   "pygments_lexer": "ipython3",
   "version": "3.10.9"
  }
 },
 "nbformat": 4,
 "nbformat_minor": 5
}
