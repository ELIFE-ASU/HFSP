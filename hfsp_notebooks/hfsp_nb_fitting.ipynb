{
 "cells": [
  {
   "cell_type": "code",
   "execution_count": 2,
   "metadata": {},
   "outputs": [],
   "source": [
    "import numpy as np\n",
    "import matplotlib.pyplot as plt \n",
    "import seaborn as sns\n",
    "from IPython.display import Math, Latex # for latex equations\n",
    "from IPython.core.display import Image # for displaying images\n",
    "from scipy import stats\n",
    "from scipy import optimize\n",
    "import networkx as nx\n",
    "import pandas as pd\n",
    "from pyvis.network import Network\n",
    "import collections\n",
    "import itertools\n",
    "import altair as alt\n"
   ]
  },
  {
   "cell_type": "code",
   "execution_count": null,
   "metadata": {},
   "outputs": [],
   "source": [
    "T = hfsp.create_tissue(\"../data/exp_raw/sam.csv\",edge_state = False)\n",
    "g = T\n",
    "\n",
    "temp_sch_1wC = np.array([168])\n",
    "temp_sch_2wC = np.array([336])\n",
    "temp_sch_4wC = np.array([672])\n",
    "temp_sch_1wCW = np.array([20,4,20,4,20,4,20,4,20,4,20,4,20,4,20,4,8])\n",
    "temp_sch_2wCW = np.array([20,4,20,4,20,4,20,4,20,4,20,4,20,4,20,4,20,4,20,4,20,4,20,4,20,4,20,4,20,4,20,4,16])\n",
    "temp_sch_4wCW = np.array([20,4,20,4,20,4,20,4,20,4,20,4,20,4,20,4,20,4,20,4,20,4,20,4,20,4,20,4,20,4,20,4,20,4,\n",
    "                          20,4,20,4,20,4,20,4,20,4,20,4,20,4,20,4,20,4,20,4,20,4,20,4,20,4,20,4,20,4,20,4,12])\n",
    "temp_sch_2wC_8hW = np.array([336,8])\n",
    "temp_sch_2wC_24hW = np.array([336,24])\n",
    "temp_sch_2wC_72hW = np.array([336,72])\n",
    "\n",
    "initial_state = np.zeros(len(g.nodes()), dtype = int)\n",
    "# for i in range(len(g.nodes())):\n",
    "#     c = np.random.choice([0,1], p = [0.99,0.01])\n",
    "#     initial_state[i] = c\n",
    "initial_state[80] = 1\n",
    "initial_state[160] = 1\n",
    "initial_state[240] = 1   \n",
    "    \n",
    "hfsp.update_spontaneous(g, jump_state = \"default\")\n",
    "\n",
    "# Predicted from Rishi's data\n",
    "p_decay0 = 0\n",
    "p_decay1 = 0.0003\n",
    "p_cold = 0.0002\n",
    "p_warm = 0.01\n",
    "p_cold60 = 0.002\n",
    "p_cold80 = 0.001\n"
   ]
  },
  {
   "cell_type": "code",
   "execution_count": null,
   "metadata": {},
   "outputs": [],
   "source": [
    "%%time\n",
    "\n",
    "hfsp.update_spontaneous(g, jump_state = \"default\")\n",
    "ensemble_data_20_1 = hfsp.ensemble(g, temp_sch_4wC, p_decay0, p_cold, p_warm, rule_code = [0,0.2], ensemble_size = 10, jump_state = \"default\")\n",
    "\n",
    "hfsp.update_spontaneous(g, jump_state = \"default\")\n",
    "ensemble_data_30_1 = hfsp.ensemble(g, temp_sch_4wC, p_decay0, p_cold, p_warm, rule_code = [0,0.3], ensemble_size = 10, jump_state = \"default\")\n",
    "\n",
    "hfsp.update_spontaneous(g, jump_state = \"default\")\n",
    "ensemble_data_35_1 = hfsp.ensemble(g, temp_sch_4wC, p_decay0, p_cold, p_warm, rule_code = [0,0.35], ensemble_size = 10, jump_state = \"default\")\n",
    "\n",
    "hfsp.update_spontaneous(g, jump_state = \"default\")\n",
    "ensemble_data_40_1 = hfsp.ensemble(g, temp_sch_4wC, p_decay0, p_cold, p_warm, rule_code = [0,0.40], ensemble_size = 10, jump_state = \"default\")\n",
    "\n",
    "hfsp.update_spontaneous(g, jump_state = \"default\")\n",
    "ensemble_data_45_1 = hfsp.ensemble(g, temp_sch_4wC, p_decay0, p_cold, p_warm, rule_code = [0,0.45], ensemble_size = 10, jump_state = \"default\")\n",
    "\n",
    "hfsp.update_spontaneous(g, jump_state = \"default\")\n",
    "ensemble_data_50_1 = hfsp.ensemble(g, temp_sch_4wC, p_decay0, p_cold, p_warm, rule_code = [0,0.50], ensemble_size = 10, jump_state = \"default\")\n",
    "\n",
    "hfsp.update_spontaneous(g, jump_state = \"default\")\n",
    "ensemble_data_55_1 = hfsp.ensemble(g, temp_sch_4wC, p_decay0, p_cold, p_warm, rule_code = [0,0.55], ensemble_size = 10, jump_state = \"default\")\n",
    "\n",
    "hfsp.update_spontaneous(g, jump_state = \"default\")\n",
    "ensemble_data_60_1 = hfsp.ensemble(g, temp_sch_4wC, p_decay0, p_cold, p_warm, rule_code = [0,0.6], ensemble_size = 10, jump_state = \"default\")\n",
    "\n",
    "hfsp.update_spontaneous(g, jump_state = \"default\")\n",
    "ensemble_data_70_1 = hfsp.ensemble(g, temp_sch_4wC, p_decay0, p_cold, p_warm, rule_code = [0,0.7], ensemble_size = 10, jump_state = \"default\")\n",
    "\n",
    "hfsp.update_spontaneous(g, jump_state = \"default\")\n",
    "ensemble_data_80_1 = hfsp.ensemble(g, temp_sch_4wC, p_decay0, p_cold, p_warm, rule_code = [0,0.8], ensemble_size = 10, jump_state = \"default\")"
   ]
  },
  {
   "cell_type": "code",
   "execution_count": null,
   "metadata": {},
   "outputs": [],
   "source": [
    "hfsp.percentGA_plt(ensemble_data_20_1, 'red') +\\\n",
    "hfsp.percentGA_plt(ensemble_data_30_1, 'red') +\\\n",
    "hfsp.percentGA_plt(ensemble_data_35_1, 'magenta') +\\\n",
    "hfsp.percentGA_plt(ensemble_data_40_1, 'magenta') +\\\n",
    "hfsp.percentGA_plt(ensemble_data_45_1, 'magenta') +\\\n",
    "hfsp.percentGA_plt(ensemble_data_50_1, 'blue') +\\\n",
    "hfsp.percentGA_plt(ensemble_data_55_1, 'blue') +\\\n",
    "hfsp.percentGA_plt(ensemble_data_60_1, 'blue') +\\\n",
    "hfsp.percentGA_plt(ensemble_data_70_1, 'blue') +\\\n",
    "hfsp.percentGA_plt(ensemble_data_80_1, 'blue')\n"
   ]
  },
  {
   "cell_type": "code",
   "execution_count": null,
   "metadata": {},
   "outputs": [],
   "source": [
    "hfsp.percentGA_plt(ensemble_data40, 'green') + hfsp.percentGA_plt(ensemble_data60, 'blue') + hfsp.percentGA_plt(ensemble_data80, 'red') "
   ]
  },
  {
   "cell_type": "code",
   "execution_count": null,
   "metadata": {},
   "outputs": [],
   "source": [
    "ensemble_data60"
   ]
  },
  {
   "cell_type": "code",
   "execution_count": null,
   "metadata": {},
   "outputs": [],
   "source": [
    "hfsp.update_spontaneous(g, jump_state = \"default\")\n",
    "ensemble_data3 = hfsp.ensemble(g, temp_sch_4wC, p_decay0, p_cold, p_warm, rule_code = 1, ensemble_size = 20)\n",
    "hfsp.update_spontaneous(g, jump_state = \"default\")\n",
    "ensemble_data4 = hfsp.ensemble(g, temp_sch_4wC, p_decay1, p_cold, p_warm, rule_code = 1, ensemble_size = 20)\n",
    "hfsp.percentFT1_plt(ensemble_data3, 'green') + hfsp.percentFT1_plt(ensemble_data4, 'red')\n"
   ]
  },
  {
   "cell_type": "code",
   "execution_count": null,
   "metadata": {},
   "outputs": [],
   "source": [
    "# With and without Majority rule for constant cold (4 weeks)\n",
    "\n",
    "\n",
    "hfsp.update_spontaneous(g, jump_state = \"default\")\n",
    "ensemble_data1 = hfsp.ensemble(g, temp_sch_4wC, p_decay1, p_cold, p_warm, rule_code = 0, ensemble_size = 20)\n",
    "hfsp.update_spontaneous(g, jump_state = \"default\")\n",
    "ensemble_data2 = hfsp.ensemble(g, temp_sch_4wC, p_decay1, p_cold, p_warm, rule_code = 1, ensemble_size = 20)\n",
    "hfsp.percentFT1_plt(ensemble_data1, 'black') + hfsp.percentFT1_plt(ensemble_data2, 'blue')\n",
    "\n",
    "# Green = with MR\n",
    "# Black = No MR "
   ]
  },
  {
   "cell_type": "code",
   "execution_count": null,
   "metadata": {},
   "outputs": [],
   "source": [
    "# With and without Majority rule for alternating cold/warm (total = 2 weeks)\n",
    "\n",
    "\n",
    "hfsp.update_spontaneous(g, jump_state = \"default\")\n",
    "ensemble_data1 = hfsp.ensemble(g, temp_sch_2wCW, p_cold, p_warm, rule_code = 0, ensemble_size = 20)\n",
    "hfsp.update_spontaneous(g, jump_state = \"default\")\n",
    "ensemble_data2 = hfsp.ensemble(g, temp_sch_2wCW, p_cold, p_warm, rule_code = 1, ensemble_size = 20)\n",
    "hfsp.percentFT1_plt(ensemble_data1, 'black') + hfsp.percentFT1_plt(ensemble_data2, 'green')\n",
    "\n",
    "# Green = with MR\n",
    "# Black = No MR "
   ]
  },
  {
   "cell_type": "code",
   "execution_count": null,
   "metadata": {},
   "outputs": [],
   "source": [
    "# For the predicted p_cold and p_warm, the robustness (SD # of hours for the tissue to reach 50% FT1 expression)\n",
    "\n",
    "n = ['Continuous Cold', 'discontinuous cold']\n",
    "s = [2.2, 3.4]\n",
    "line = plt.bar(n,s)\n",
    "plt.xlabel('p_cold = 0.0003, p_warm = 0.03)')\n",
    "plt.ylabel(\"SD # of hours at 10% FT1 exp\")\n",
    "plt.title('robustness analysis')\n",
    "for i in range(len(s)):\n",
    "    plt.annotate(str(s[i]), xy=(n[i],s[i]), ha='center', va='bottom')\n",
    "\n",
    "plt.show()\n",
    "\n",
    "# at 10% FT1 exp; continuous = 2.2, discont = 3.4)  "
   ]
  },
  {
   "cell_type": "code",
   "execution_count": null,
   "metadata": {},
   "outputs": [],
   "source": [
    "hfsp.update_spontaneous(g, jump_state = \"default\")\n",
    "temp_4wCW = np.array([20,4,20,4,20,4,20,4,20,4,20,4,20,4,20,4,20,4,20,4,20,4,20,4,20,4,20,4,20,4,20,4,20,4,20,4,20,4,20,4,20,4,20,4,20,4,20,4,20,4,20,4,20,4,20,4,20,4,20,4,20,4,20,4,20,4,20,4,20,4,20,4,20,4,20,4,20,4,20,4,20,4,20,4])\n",
    "ensemble_data3 = hfsp.ensemble(g, temp, p_cold, p_warm, rule_code = 1, ensemble_size = 20)\n",
    "hfsp.percentFT1_plt(ensemble_data3, 'green')"
   ]
  },
  {
   "cell_type": "code",
   "execution_count": 9,
   "metadata": {},
   "outputs": [
    {
     "data": {
      "image/png": "[encoded data removed]",
      "text/plain": [
       "<Figure size 432x288 with 1 Axes>"
      ]
     },
     "metadata": {
      "needs_background": "light"
     },
     "output_type": "display_data"
    }
   ],
   "source": [
    "\n",
    "labels = ['10WSD', '1wC', '1wC/W', '2wC', '2wC/W', '4wC', '4wC/W']\n",
    "Rishi_data_GA = [1.02, 1.79,1.4,3.73, 0.8, 4.73,1.08 ]\n",
    "Swanand_simulation_MR2 = [1.06, 2.1, 1.3, 3.5, 2, 6, 1.5]\n",
    "x = np.arange(len(labels))  # the label locations\n",
    "width = 0.35  # the width of the bars\n",
    "x_axis = np.arange(len(labels))\n",
    "\n",
    "# Multi bar Chart\n",
    "plt.bar(x_axis, Rishi_data_GA, width=0.25, label = 'Rishi_exp_GA20Ox', color = 'grey')\n",
    "plt.bar(x_axis + 0.25, Swanand_simulation_MR2 ,  width=0.25, label = 'Swanand simulation /w MR', color = 'green')\n",
    "# plt.bar(x_axis +0.4, Swanand_simulation_noMR ,yerr = err_sim_noMR,  width=0.2, label = 'Swanand simulation with no MR', color = 'lightgreen')\n",
    "# plt.bar(x_axis, Rishi_data_GA,  width=0.5, color = 'grey')\n",
    "# Xticks\n",
    "plt.ylabel(\"GA20ox1_%_expression %\")\n",
    "plt.title('fitting MR2 simulations with Rishi data')\n",
    "plt.xticks(x_axis, labels)\n",
    "\n",
    "# Add legend\n",
    "\n",
    "# plt.legend(loc='upper left')\n",
    "\n",
    "# Display\n",
    "plt.savefig(\"1\")\n",
    "plt.show()\n"
   ]
  },
  {
   "cell_type": "code",
   "execution_count": null,
   "metadata": {},
   "outputs": [],
   "source": [
    "# def SD_time_at10(df):\n",
    "#     time_at10 = []\n",
    "#     for i in range(len(df.iloc[0,:])-5):\n",
    "#         for j in range(len(df)):\n",
    "#             if df.iloc[:,i+1][j] > 10:\n",
    "#                 time_at10.append(df['time'][j])\n",
    "#                 break\n",
    "#     return np.std(np.array(time_at10))"
   ]
  }
 ],
 "metadata": {
  "kernelspec": {
   "display_name": "Python 3",
   "language": "python",
   "name": "python3"
  },
  "language_info": {
   "codemirror_mode": {
    "name": "ipython",
    "version": 3
   },
   "file_extension": ".py",
   "mimetype": "text/x-python",
   "name": "python",
   "nbconvert_exporter": "python",
   "pygments_lexer": "ipython3",
   "version": "3.8.8"
  }
 },
 "nbformat": 4,
 "nbformat_minor": 4
}
