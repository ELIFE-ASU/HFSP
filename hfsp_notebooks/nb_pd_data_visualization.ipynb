{
 "cells": [
  {
   "cell_type": "code",
   "execution_count": 1,
   "id": "4233952e-94d1-41fe-9323-abf71e631dc4",
   "metadata": {},
   "outputs": [],
   "source": [
    "import sys  \n",
    "sys.path.insert(1, \"..\")\n",
    "from hfsp_scripts import hfsp_functions as hfsp\n",
    "import numpy as np\n",
    "import matplotlib.pyplot as plt \n",
    "import matplotlib.animation as animation \n",
    "from scipy import stats\n",
    "import networkx as nx\n",
    "import pandas as pd"
   ]
  },
  {
   "cell_type": "code",
   "execution_count": 3,
   "id": "4f71c169-43dc-429c-bef3-44a3052c0c94",
   "metadata": {},
   "outputs": [],
   "source": [
    "df = pd.read_excel(\"../inputs/PD data/network_edge_data/1wC_rep1.xlsx\")"
   ]
  },
  {
   "cell_type": "code",
   "execution_count": 5,
   "id": "a650fbe1-4394-4572-838a-962b3ab31734",
   "metadata": {},
   "outputs": [
    {
     "data": {
      "text/plain": [
       "pandas.core.frame.DataFrame"
      ]
     },
     "execution_count": 5,
     "metadata": {},
     "output_type": "execute_result"
    }
   ],
   "source": []
  },
  {
   "cell_type": "code",
   "execution_count": null,
   "id": "d1491336-089a-44e1-b126-c7c8d3e57063",
   "metadata": {},
   "outputs": [],
   "source": [
    "df.to_csv(\"csv_1wC.csv\", index = False)"
   ]
  },
  {
   "cell_type": "code",
   "execution_count": null,
   "id": "a612f87d-1078-4d5c-b03d-f672bdd5155e",
   "metadata": {},
   "outputs": [],
   "source": [
    "T = hfsp.create_tissue(\"csv_1wC.csv\", edge_state = True)"
   ]
  },
  {
   "cell_type": "code",
   "execution_count": null,
   "id": "e1e44f85-9cea-48a3-abd7-f296e8117d83",
   "metadata": {},
   "outputs": [],
   "source": [
    "for i in range(len(df)):\n",
    "    edge = (df.iloc[i,0], df.iloc[i,1])\n",
    "    state = list(df[\"edge_state\"])[i]\n",
    "    T = hfsp.update_individual_edge(T, edge ,state)"
   ]
  },
  {
   "cell_type": "code",
   "execution_count": null,
   "id": "e038a93c-3a6f-40d9-b601-0149986d47fb",
   "metadata": {},
   "outputs": [],
   "source": [
    "# T.remove_node(0)"
   ]
  },
  {
   "cell_type": "code",
   "execution_count": null,
   "id": "0a928ac7-5af0-4fd2-99d3-32d49e444b97",
   "metadata": {},
   "outputs": [],
   "source": [
    "# to_del = [n for n in T if T.degree(n) <= 1]\n",
    "# T.remove_nodes_from(to_del)"
   ]
  },
  {
   "cell_type": "code",
   "execution_count": null,
   "id": "19903d67-2526-4958-93e3-542c3ebe6fbd",
   "metadata": {},
   "outputs": [],
   "source": [
    "hfsp.plt_tissue(T, edge_state=True, save_with_name=\"1wCW.png\")"
   ]
  },
  {
   "cell_type": "code",
   "execution_count": null,
   "id": "036383d7-74a9-4339-a1b3-b1eee9f90dd7",
   "metadata": {},
   "outputs": [],
   "source": [
    "np.sum(np.array(df[\"edge_state\"])) / len(df)"
   ]
  },
  {
   "cell_type": "code",
   "execution_count": null,
   "id": "0f9632a0-b1ac-45cb-bbf3-5d8ab2bfd705",
   "metadata": {},
   "outputs": [],
   "source": []
  },
  {
   "cell_type": "code",
   "execution_count": null,
   "id": "1d41538d-cab9-496f-b64d-29cf72dd4361",
   "metadata": {},
   "outputs": [],
   "source": []
  }
 ],
 "metadata": {
  "kernelspec": {
   "display_name": "Python 3 (ipykernel)",
   "language": "python",
   "name": "python3"
  },
  "language_info": {
   "codemirror_mode": {
    "name": "ipython",
    "version": 3
   },
   "file_extension": ".py",
   "mimetype": "text/x-python",
   "name": "python",
   "nbconvert_exporter": "python",
   "pygments_lexer": "ipython3",
   "version": "3.12.0"
  }
 },
 "nbformat": 4,
 "nbformat_minor": 5
}
