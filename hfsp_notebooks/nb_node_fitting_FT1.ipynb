{
 "cells": [
  {
   "cell_type": "code",
   "execution_count": 1,
   "metadata": {},
   "outputs": [],
   "source": [
    "import sys  \n",
    "sys.path.insert(1, \"..\")\n",
    "from hfsp_scripts import hfsp_functions as hfsp\n",
    "import numpy as np\n",
    "import matplotlib.pyplot as plt \n",
    "import seaborn as sns\n",
    "from scipy import stats\n",
    "from scipy import optimize\n",
    "import networkx as nx\n",
    "import pandas as pd"
   ]
  },
  {
   "cell_type": "markdown",
   "metadata": {},
   "source": [
    "# Define variables for FT1"
   ]
  },
  {
   "cell_type": "code",
   "execution_count": null,
   "metadata": {},
   "outputs": [],
   "source": [
    "temp_sch_1wC = np.array([168])\n",
    "temp_sch_2wC = np.array([336])\n",
    "temp_sch_4wC = np.array([672])\n",
    "temp_sch_1wCW = np.array([20,4,20,4,20,4,20,4,20,4,20,4,20,4,20,4,8])\n",
    "temp_sch_2wCW = np.array([20,4,20,4,20,4,20,4,20,4,20,4,20,4,20,4,20,4,20,4,20,4,20,4,20,4,20,4,20,4,20,4,16])\n",
    "temp_sch_4wCW = np.array([20,4,20,4,20,4,20,4,20,4,20,4,20,4,20,4,20,4,20,4,20,4,20,4,20,4,20,4,20,4,20,4,20,4,\n",
    "                          20,4,20,4,20,4,20,4,20,4,20,4,20,4,20,4,20,4,20,4,20,4,20,4,20,4,20,4,20,4,20,4,12])\n",
    "temp_sch_2wC_8hW = np.array([336,8])\n",
    "temp_sch_2wC_24hW = np.array([336,24])\n",
    "temp_sch_2wC_72hW = np.array([336,72])\n",
    "      \n",
    "\n",
    "# manual prediction/fitting from Rishi's data\n",
    "\n",
    "p_cold_2d = 0.0003\n",
    "p_warm_2d = 0.03\n",
    "p_cold_3d = 0.0004\n",
    "p_warm_3d = 0.015\n",
    "p_edge = 1 # we use MR0 to fit the parameters.\n",
    "\n",
    "p_decay0 = 0\n",
    "p_decay1 = 0.00003\n",
    "p_decay2 = 0.00005"
   ]
  },
  {
   "cell_type": "markdown",
   "metadata": {
    "tags": []
   },
   "source": [
    "# Define g = the SAM template and also define the initial state."
   ]
  },
  {
   "cell_type": "code",
   "execution_count": null,
   "metadata": {},
   "outputs": [],
   "source": [
    "T_2d = hfsp.create_tissue(\"../inputs/2d_sam.csv\", True)\n",
    "g = T_2d\n",
    "\n",
    "# Initial state is alomost 0.94% active nodes (value 10WSD) == around 8 random cells activated in a 3D template.\n",
    "\n",
    "TENwSD_state = np.zeros((len(g.nodes()),),dtype = int)\n",
    "TENwSD_state[0] = 1\n",
    "TENwSD_state[100] = 1\n",
    "TENwSD_state[200] = 1\n",
    "\n",
    "hfsp.update_spontaneous(g, jump_state = TENwSD_state)\n",
    "\n",
    "# Ok, now TENwSD_state is a random state with 0.93% active nodes"
   ]
  },
  {
   "cell_type": "code",
   "execution_count": null,
   "metadata": {},
   "outputs": [],
   "source": [
    "ens_1 = hfsp.ensemble(g, temp_sch_1wC, p_decay1, p_cold_2d, p_warm_2d, p_edge = 1, \n",
    "                   rule_code_node = [0,0.5], rule_code_edge = None, ensemble_size = 5, jump_state = TENwSD_state)"
   ]
  },
  {
   "cell_type": "code",
   "execution_count": null,
   "metadata": {},
   "outputs": [],
   "source": [
    "ens_1"
   ]
  },
  {
   "cell_type": "code",
   "execution_count": 3,
   "metadata": {},
   "outputs": [
    {
     "data": {
      "image/png": "[encoded data removed]",
      "text/plain": [
       "<Figure size 432x288 with 1 Axes>"
      ]
     },
     "metadata": {},
     "output_type": "display_data"
    }
   ],
   "source": [
    "# manual fitting using 3D template.\n",
    "\n",
    "labels = ['10wSD', '1wC', '1wC/W', '2wC', '2wC/W', '4wC', '4wC/W']\n",
    "\n",
    "Rishi_data_FT1 = [0.94, 14.78, 7.21, 20.25 , 15.94 , 43.71 , 12.62]\n",
    "yerr_exp = [0.21, 15.25, 3.29, 9.28, 12, 12, 3.8]\n",
    "\n",
    "Swanand_simulation_3DMR050 = [0.93,9, 6.74, 19,11.8, 100, 21.8]\n",
    "yerr_sim_3DMR050 = [0 ,3 , 2, 3.15 , 2.8 , 0 ,8]\n",
    "\n",
    "Swanand_simulation_2DMR050 = [1,6.47,4.07,20.74,10.01,50, 9]\n",
    "yerr_sim_2DMR050 = [0,2.5, 1.5 ,8,5,20,4]\n",
    "\n",
    "x = np.arange(len(labels))  # the label locations\n",
    "x_axis = np.arange(len(labels))\n",
    "\n",
    "# Multi bar Chart\n",
    "\n",
    "sns.set()\n",
    "sns.set_style(\"white\")\n",
    "fig, ax = plt.subplots()\n",
    "ax.bar(x_axis-0.2, Rishi_data_FT1, width = 0.4, yerr = np.divide(yerr_exp, 1.73), label = 'Experiment')\n",
    "ax.bar(x_axis+0.2, Swanand_simulation_3DMR050 , width=0.4, yerr = np.divide(yerr_sim_3DMR050, 1.73), label = 'Simulation on 3D with MR0')\n",
    "ax.set_ylabel(r\"% $\\rm{of\\ cells\\ expressing}$ FT1\", font = \"Arial\", style = 'italic')\n",
    "ax.set_xlabel(\"Temperature schedule\")\n",
    "ax.set_title('Fitting simulations on 3D template with FT1 data, using MR0', font = \"Arial\")\n",
    "plt.xticks(x_axis, labels)\n",
    "ax.tick_params(bottom = True, left = True, direction=\"inout\")\n",
    "plt.legend(loc='upper left')\n",
    "# Display\n",
    "plt.savefig(\"hfsp_fitting_FT1_3DMR0.png\", dpi = 600)\n",
    "\n",
    "plt.show()"
   ]
  },
  {
   "cell_type": "code",
   "execution_count": null,
   "metadata": {},
   "outputs": [],
   "source": []
  }
 ],
 "metadata": {
  "kernelspec": {
   "display_name": "Python 3",
   "language": "python",
   "name": "python3"
  },
  "language_info": {
   "codemirror_mode": {
    "name": "ipython",
    "version": 3
   },
   "file_extension": ".py",
   "mimetype": "text/x-python",
   "name": "python",
   "nbconvert_exporter": "python",
   "pygments_lexer": "ipython3",
   "version": "3.8.8"
  }
 },
 "nbformat": 4,
 "nbformat_minor": 4
}
