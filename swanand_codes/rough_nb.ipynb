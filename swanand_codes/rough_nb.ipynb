{
 "cells": [
  {
   "cell_type": "code",
   "execution_count": 1,
   "id": "dc70b8e7-d64e-42ee-8599-d850478e9453",
   "metadata": {},
   "outputs": [],
   "source": [
    "import numpy as np\n",
    "import matplotlib.pyplot as plt \n",
    "from IPython.display import Math, Latex # for latex equations\n",
    "from IPython.core.display import Image # for displaying images\n",
    "from scipy import stats\n",
    "from scipy import optimize\n",
    "import seaborn"
   ]
  },
  {
   "cell_type": "code",
   "execution_count": 2,
   "id": "a10eb7b9-1535-4077-adba-83f8c4e6f2e5",
   "metadata": {},
   "outputs": [],
   "source": [
    "# random numbers from uniform distribution\n",
    "U_0_1 = np.random.uniform(0,1,100)\n",
    "\n",
    "Exp = np.empty(shape=[len(U_0_1),])\n",
    "for i in range(len(U_0_1)):\n",
    "    Exp[i] = -10*(np.log(U_0_1[i]))\n",
    "\n",
    "hist = np.histogram(Exp, bins=10)\n",
    "\n",
    "x = np.empty(shape = [len(hist[0]),])\n",
    "for i in range(len(hist[1])-1):\n",
    "    x[i] = (hist[1][i]+hist[1][i+1])/2\n"
   ]
  },
  {
   "cell_type": "code",
   "execution_count": 3,
   "id": "9137f878-bfee-404b-9a89-f1e21fa1f4cb",
   "metadata": {},
   "outputs": [
    {
     "data": {
      "text/plain": [
       "Text(0.5, 1.0, 'PDF of Exponential distribution with $\\\\lambda=1$')"
      ]
     },
     "execution_count": 3,
     "metadata": {},
     "output_type": "execute_result"
    },
    {
     "data": {
      "image/png": "[encoded data removed]",
      "text/plain": [
       "<Figure size 432x288 with 1 Axes>"
      ]
     },
     "metadata": {
      "needs_background": "light"
     },
     "output_type": "display_data"
    }
   ],
   "source": [
    "pdf = hist[0]/100\n",
    "plt.bar(x, height = pdf, width=hist[1][1]-hist[1][0], align='center')\n",
    "plt.ylabel('Probability density')\n",
    "plt.title(r'PDF of Exponential distribution with $\\lambda=1$')\n"
   ]
  },
  {
   "cell_type": "code",
   "execution_count": 4,
   "id": "6bd4de2c-e347-48a7-aa12-c7016165d404",
   "metadata": {},
   "outputs": [
    {
     "data": {
      "text/plain": [
       "Text(0.5, 1.0, 'CDF of Exponential distribution with $\\\\lambda=1$')"
      ]
     },
     "execution_count": 4,
     "metadata": {},
     "output_type": "execute_result"
    },
    {
     "data": {
      "image/png": "[encoded data removed]",
      "text/plain": [
       "<Figure size 432x288 with 1 Axes>"
      ]
     },
     "metadata": {
      "needs_background": "light"
     },
     "output_type": "display_data"
    }
   ],
   "source": [
    "cdf = np.empty(shape = [len(pdf),])\n",
    "cdf[0] = pdf[0]\n",
    "for i in range(1,len(pdf)):\n",
    "    cdf[i] = cdf[i-1] + pdf[i]\n",
    "plt.bar(x, height = cdf, width=hist[1][1]-hist[1][0], align='center')\n",
    "plt.ylabel('Cumulative Probability density')\n",
    "plt.title(r'CDF of Exponential distribution with $\\lambda=1$')"
   ]
  },
  {
   "cell_type": "code",
   "execution_count": 5,
   "id": "29fb35a6-51e1-49b1-bfc9-6eeccc405868",
   "metadata": {},
   "outputs": [
    {
     "data": {
      "text/plain": [
       "(array([0.31533278]), array([[0.90456816]]))"
      ]
     },
     "execution_count": 5,
     "metadata": {},
     "output_type": "execute_result"
    }
   ],
   "source": [
    "from scipy import optimize\n",
    "\n",
    "def exp_fit(x_data,l):\n",
    "    return l*np.exp((-l)*(x_data))\n",
    "\n",
    "optimize.curve_fit(exp_fit,x, pdf)"
   ]
  },
  {
   "cell_type": "code",
   "execution_count": 6,
   "id": "aa28170b-7520-487f-a33e-eb763634f823",
   "metadata": {},
   "outputs": [
    {
     "data": {
      "text/plain": [
       "[<matplotlib.lines.Line2D at 0x2202bf144f0>]"
      ]
     },
     "execution_count": 6,
     "metadata": {},
     "output_type": "execute_result"
    },
    {
     "data": {
      "image/png": "[encoded data removed]",
      "text/plain": [
       "<Figure size 432x288 with 1 Axes>"
      ]
     },
     "metadata": {
      "needs_background": "light"
     },
     "output_type": "display_data"
    }
   ],
   "source": [
    "plt.plot(x,exp_fit(x,0.23),color = \"Red\")\n",
    "plt.plot(x,pdf)"
   ]
  },
  {
   "cell_type": "code",
   "execution_count": 7,
   "id": "c741a858-35b7-4cc0-ac12-7be96f25c0a6",
   "metadata": {},
   "outputs": [
    {
     "data": {
      "text/plain": [
       "8.591936314620328"
      ]
     },
     "execution_count": 7,
     "metadata": {},
     "output_type": "execute_result"
    }
   ],
   "source": [
    "np.average(Exp)"
   ]
  },
  {
   "cell_type": "code",
   "execution_count": 8,
   "id": "8f5e4cfd-5017-4c47-b559-2e0f62132293",
   "metadata": {},
   "outputs": [],
   "source": [
    "a = np.random.choice([0,1],p = [0.9,0.1])"
   ]
  },
  {
   "cell_type": "code",
   "execution_count": 9,
   "id": "2ce7fd48-2a6d-4e14-a184-9be08d7d215b",
   "metadata": {},
   "outputs": [
    {
     "data": {
      "text/plain": [
       "0"
      ]
     },
     "execution_count": 9,
     "metadata": {},
     "output_type": "execute_result"
    }
   ],
   "source": [
    "a"
   ]
  },
  {
   "cell_type": "code",
   "execution_count": 10,
   "id": "da203709-d8c7-45ca-aa00-61abb050108d",
   "metadata": {},
   "outputs": [],
   "source": [
    "t = (((((14, 8), 19), ((4, 11), (4, 11, 11))), (11, 8, 8)), (19, 8, 8))"
   ]
  },
  {
   "cell_type": "code",
   "execution_count": 11,
   "id": "44d8fea2-94ca-4d41-99e4-9def29f66d32",
   "metadata": {},
   "outputs": [
    {
     "name": "stdout",
     "output_type": "stream",
     "text": [
      "1\n",
      "2\n",
      "3\n"
     ]
    }
   ],
   "source": [
    "for i in range(1,4):\n",
    "    print(i)"
   ]
  },
  {
   "cell_type": "code",
   "execution_count": 89,
   "id": "d703dd12-d000-4dbe-bf0e-cbf5e5f28e36",
   "metadata": {},
   "outputs": [],
   "source": [
    "temp_sch = np.array([0,5,2,3])\n",
    "temp_array = np.array([],dtype = int)         \n",
    "for i in range(len(temp_sch)):\n",
    "    if int(i/2)*2  == i: \n",
    "        to_append = np.zeros(temp_sch[i], dtype = int)\n",
    "    else:\n",
    "        to_append = np.ones(temp_sch[i], dtype = int)\n",
    "    temp_array = np.append(temp_array, to_append)\n"
   ]
  },
  {
   "cell_type": "code",
   "execution_count": 90,
   "id": "5d8064ed-bff4-42d4-ba8a-21bc842a8436",
   "metadata": {},
   "outputs": [
    {
     "data": {
      "text/plain": [
       "array([1, 1, 1, 1, 1, 0, 0, 1, 1, 1])"
      ]
     },
     "execution_count": 90,
     "metadata": {},
     "output_type": "execute_result"
    }
   ],
   "source": [
    "temp_array"
   ]
  },
  {
   "cell_type": "code",
   "execution_count": null,
   "id": "eb14fec6-5271-4238-87f4-a4029739ad69",
   "metadata": {},
   "outputs": [],
   "source": []
  },
  {
   "cell_type": "code",
   "execution_count": null,
   "id": "3fcbcd48-2565-4928-bf09-ecfcdf962fbc",
   "metadata": {},
   "outputs": [],
   "source": []
  }
 ],
 "metadata": {
  "kernelspec": {
   "display_name": "Python 3",
   "language": "python",
   "name": "python3"
  },
  "language_info": {
   "codemirror_mode": {
    "name": "ipython",
    "version": 3
   },
   "file_extension": ".py",
   "mimetype": "text/x-python",
   "name": "python",
   "nbconvert_exporter": "python",
   "pygments_lexer": "ipython3",
   "version": "3.8.8"
  }
 },
 "nbformat": 4,
 "nbformat_minor": 5
}
