{
 "cells": [
  {
   "cell_type": "code",
   "execution_count": 1,
   "id": "23b8391c-96a2-42c1-8e73-c4ec3b5b2d4f",
   "metadata": {},
   "outputs": [],
   "source": [
    "import sys  \n",
    "sys.path.insert(1, \"..\")\n",
    "from hfsp_scripts import hfsp_functions as hfsp\n",
    "import numpy as np\n",
    "import matplotlib.pyplot as plt \n",
    "import matplotlib.animation as animation \n",
    "from scipy import stats\n",
    "import networkx as nx\n",
    "import pandas as pd\n",
    "impor"
   ]
  },
  {
   "cell_type": "code",
   "execution_count": 2,
   "id": "d3a7b22f-8792-4920-a7bc-9d95e924f9bb",
   "metadata": {},
   "outputs": [],
   "source": [
    "# Get your CSV's with correct path here.\n",
    "T1 = hfsp.create_tissue(\"../inputs/3d_sam.csv\", True) \n",
    "\n",
    "# Use it if you want to visualize the tissue\n",
    "# hfsp.plt_tissue(T1, edge_state = True, save_with_name = None) \n"
   ]
  },
  {
   "cell_type": "code",
   "execution_count": 3,
   "id": "65dcd6aa-7d24-4b6a-8879-71c16027d1a0",
   "metadata": {},
   "outputs": [],
   "source": [
    "degrees = dict(T1.degree(list(T1.nodes()))).values()"
   ]
  },
  {
   "cell_type": "code",
   "execution_count": 9,
   "id": "33eac3f9-b9fb-4624-ad7c-c95ae33bd660",
   "metadata": {},
   "outputs": [],
   "source": [
    "node_deg = dict(T1.degree(list(T1.nodes())))"
   ]
  },
  {
   "cell_type": "code",
   "execution_count": 4,
   "id": "54fcf0b7-6f31-4367-ba15-d2d4199422a0",
   "metadata": {},
   "outputs": [],
   "source": [
    "from collections import Counter"
   ]
  },
  {
   "cell_type": "code",
   "execution_count": 7,
   "id": "8aec1484-28f1-4744-bb0e-05435cbd5d7e",
   "metadata": {},
   "outputs": [
    {
     "data": {
      "image/png": "[encoded data removed]",
      "text/plain": [
       "<Figure size 432x288 with 1 Axes>"
      ]
     },
     "metadata": {
      "needs_background": "light"
     },
     "output_type": "display_data"
    }
   ],
   "source": [
    "\n",
    "import seaborn as sns\n",
    "sns.set_style(\"white\")\n",
    "fig, ax = plt.subplots()\n",
    "\n",
    "\n",
    "ax.bar(np.array(list(degree_dist.keys())), np.array(list(degree_dist.values())) , label = 'SAM 3D template', color = 'green')\n",
    "\n",
    "ax.set_ylabel(r\"Count (number of Nodes)\", font = \"Arial\")\n",
    "ax.set_xlabel(r\"Degree (number of neighbors)\", font = \"Arial\")\n",
    "ax.set_title(r\"Deegree Distribution\", font = \"Arial\", fontsize = 13)\n",
    "# ax.set_ylim(0, 500)\n",
    "ax.tick_params(bottom = True, left = True, direction=\"inout\")\n",
    "ax.xaxis.set_ticks(np.arange(0,30,2))\n",
    "ax.legend(loc = \"upper right\")\n",
    "fig.savefig(\"../outputs/deg_dist_3D.png\", dpi = 600)"
   ]
  },
  {
   "cell_type": "code",
   "execution_count": null,
   "id": "3753f11c-dcee-4413-8cb9-908ea553463c",
   "metadata": {},
   "outputs": [],
   "source": []
  }
 ],
 "metadata": {
  "kernelspec": {
   "display_name": "Python 3 (ipykernel)",
   "language": "python",
   "name": "python3"
  },
  "language_info": {
   "codemirror_mode": {
    "name": "ipython",
    "version": 3
   },
   "file_extension": ".py",
   "mimetype": "text/x-python",
   "name": "python",
   "nbconvert_exporter": "python",
   "pygments_lexer": "ipython3",
   "version": "3.12.0"
  }
 },
 "nbformat": 4,
 "nbformat_minor": 5
}
